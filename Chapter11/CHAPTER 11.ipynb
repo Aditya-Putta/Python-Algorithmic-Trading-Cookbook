{
 "cells": [
  {
   "cell_type": "markdown",
   "metadata": {},
   "source": [
    "# Python Algorithmic Trading Cookbook"
   ]
  },
  {
   "cell_type": "markdown",
   "metadata": {},
   "source": [
    "## Chapter 11: Algorithmic Trading: Real Trading"
   ]
  },
  {
   "cell_type": "markdown",
   "metadata": {},
   "source": [
    "This Jupyter Notebook is created using Python version 3.8.2"
   ]
  },
  {
   "cell_type": "markdown",
   "metadata": {},
   "source": [
    "----"
   ]
  },
  {
   "cell_type": "markdown",
   "metadata": {},
   "source": [
    "### Requirements"
   ]
  },
  {
   "cell_type": "markdown",
   "metadata": {},
   "source": [
    "You can install the requirements for this Jupyter Notebook by executing the below cell"
   ]
  },
  {
   "cell_type": "code",
   "execution_count": 0,
   "metadata": {},
   "outputs": [],
   "source": [
    "!pip install pyalgotrading"
   ]
  },
  {
   "cell_type": "markdown",
   "metadata": {},
   "source": [
    "----"
   ]
  },
  {
   "cell_type": "markdown",
   "metadata": {},
   "source": [
    "### Recipe 1: EMA-Regular-Order Strategy: Fetching the Strategy"
   ]
  },
  {
   "cell_type": "code",
   "execution_count": 1,
   "metadata": {
    "scrolled": true
   },
   "outputs": [],
   "source": [
    "from pyalgotrading.algobulls import AlgoBullsConnection"
   ]
  },
  {
   "cell_type": "code",
   "execution_count": 2,
   "metadata": {},
   "outputs": [],
   "source": [
    "algobulls_connection = AlgoBullsConnection()"
   ]
  },
  {
   "cell_type": "code",
   "execution_count": 3,
   "metadata": {},
   "outputs": [
    {
     "name": "stdout",
     "output_type": "stream",
     "text": [
      "Please login to this URL with your AlgoBulls credentials and get your developer access token: https://app.algobulls.com/user/login\n"
     ]
    },
    {
     "data": {
      "text/plain": [
       "'https://app.algobulls.com/user/login'"
      ]
     },
     "execution_count": 3,
     "metadata": {},
     "output_type": "execute_result"
    }
   ],
   "source": [
    "algobulls_connection.get_authorization_url()"
   ]
  },
  {
   "cell_type": "code",
   "execution_count": 4,
   "metadata": {},
   "outputs": [],
   "source": [
    "algobulls_connection.set_access_token('80b7a69b168c5b3f15d56688841a8f2da5e2ab2c')"
   ]
  },
  {
   "cell_type": "code",
   "execution_count": 5,
   "metadata": {},
   "outputs": [
    {
     "data": {
      "text/html": [
       "<div>\n",
       "<style scoped>\n",
       "    .dataframe tbody tr th:only-of-type {\n",
       "        vertical-align: middle;\n",
       "    }\n",
       "\n",
       "    .dataframe tbody tr th {\n",
       "        vertical-align: top;\n",
       "    }\n",
       "\n",
       "    .dataframe thead th {\n",
       "        text-align: right;\n",
       "    }\n",
       "</style>\n",
       "<table border=\"1\" class=\"dataframe\">\n",
       "  <thead>\n",
       "    <tr style=\"text-align: right;\">\n",
       "      <th></th>\n",
       "      <th>strategyCode</th>\n",
       "      <th>strategyName</th>\n",
       "    </tr>\n",
       "  </thead>\n",
       "  <tbody>\n",
       "    <tr>\n",
       "      <th>0</th>\n",
       "      <td>49287246f9704bbcbad76ade9e2091d9</td>\n",
       "      <td>EMA Regular Order Strategy</td>\n",
       "    </tr>\n",
       "    <tr>\n",
       "      <th>1</th>\n",
       "      <td>4faf514fe096432b8e9f80f5951bd2ea</td>\n",
       "      <td>MACD Bracket Order Strategy</td>\n",
       "    </tr>\n",
       "  </tbody>\n",
       "</table>\n",
       "</div>"
      ],
      "text/plain": [
       "                       strategyCode                 strategyName\n",
       "0  49287246f9704bbcbad76ade9e2091d9   EMA Regular Order Strategy\n",
       "1  4faf514fe096432b8e9f80f5951bd2ea  MACD Bracket Order Strategy"
      ]
     },
     "execution_count": 5,
     "metadata": {},
     "output_type": "execute_result"
    }
   ],
   "source": [
    "all_strategies = algobulls_connection.get_all_strategies()\n",
    "all_strategies"
   ]
  },
  {
   "cell_type": "code",
   "execution_count": 6,
   "metadata": {},
   "outputs": [
    {
     "data": {
      "text/plain": [
       "'49287246f9704bbcbad76ade9e2091d9'"
      ]
     },
     "execution_count": 6,
     "metadata": {},
     "output_type": "execute_result"
    }
   ],
   "source": [
    "strategy_code1 = all_strategies.iloc[0]['strategyCode']\n",
    "strategy_code1"
   ]
  },
  {
   "cell_type": "code",
   "execution_count": 7,
   "metadata": {},
   "outputs": [
    {
     "name": "stdout",
     "output_type": "stream",
     "text": [
      "class StrategyEMARegularOrder(StrategyBase):\n",
      "\n",
      "    def __init__(self, *args, **kwargs):\n",
      "        super().__init__(*args, **kwargs)\n",
      "\n",
      "        self.timeperiod1 = self.strategy_parameters['timeperiod1']\n",
      "        self.timeperiod2 = self.strategy_parameters['timeperiod2']\n",
      "\n",
      "        self.main_order = None\n",
      "\n",
      "    def initialize(self):\n",
      "        self.main_order = {}\n",
      "\n",
      "    @staticmethod\n",
      "    def name():\n",
      "        return 'EMA Regular Order Strategy'\n",
      "\n",
      "    @staticmethod\n",
      "    def versions_supported():\n",
      "        return AlgoBullsEngineVersion.VERSION_3_2_0\n",
      "\n",
      "    def get_crossover_value(self, instrument):\n",
      "        hist_data = self.get_historical_data(instrument)\n",
      "        ema_x = talib.EMA(hist_data['close'], timeperiod=self.timeperiod1)\n",
      "        ema_y = talib.EMA(hist_data['close'], timeperiod=self.timeperiod2)\n",
      "        crossover_value = self.utils.crossover(ema_x, ema_y)\n",
      "        return crossover_value\n",
      "\n",
      "    def strategy_select_instruments_for_entry(self, candle, instruments_bucket):\n",
      "\n",
      "        selected_instruments_bucket = []\n",
      "        sideband_info_bucket = []\n",
      "\n",
      "        for instrument in instruments_bucket:\n",
      "            crossover_value = self.get_crossover_value(instrument)\n",
      "            if crossover_value == 1:\n",
      "                selected_instruments_bucket.append(instrument)\n",
      "                sideband_info_bucket.append({'action': 'BUY'})\n",
      "            elif crossover_value == -1:\n",
      "                if self.strategy_mode is StrategyMode.INTRADAY:\n",
      "                    selected_instruments_bucket.append(instrument)\n",
      "                    sideband_info_bucket.append({'action': 'SELL'})\n",
      "\n",
      "        return selected_instruments_bucket, sideband_info_bucket\n",
      "\n",
      "    def strategy_enter_position(self, candle, instrument, sideband_info):\n",
      "        if sideband_info['action'] == 'BUY':\n",
      "            qty = self.number_of_lots * instrument.lot_size\n",
      "            self.main_order[instrument] = \\\n",
      "                self.broker.BuyOrderRegular(instrument=instrument,\n",
      "                                            order_code=BrokerOrderCodeConstants.INTRADAY,\n",
      "                                            order_variety=BrokerOrderVarietyConstants.MARKET,\n",
      "                                            quantity=qty)\n",
      "        elif sideband_info['action'] == 'SELL':\n",
      "            qty = self.number_of_lots * instrument.lot_size\n",
      "            self.main_order[instrument] = \\\n",
      "                self.broker.SellOrderRegular(instrument=instrument,\n",
      "                                             order_code=BrokerOrderCodeConstants.INTRADAY,\n",
      "                                             order_variety=BrokerOrderVarietyConstants.MARKET,\n",
      "                                             quantity=qty)\n",
      "        else:\n",
      "            raise SystemExit(f'Got invalid sideband_info value: {sideband_info}')\n",
      "\n",
      "        return self.main_order[instrument]\n",
      "\n",
      "    def strategy_select_instruments_for_exit(self, candle, instruments_bucket):\n",
      "        selected_instruments_bucket = []\n",
      "        sideband_info_bucket = []\n",
      "\n",
      "        for instrument in instruments_bucket:\n",
      "            if self.main_order.get(instrument) is not None:\n",
      "                crossover_value = self.get_crossover_value(instrument)\n",
      "                if crossover_value in [1, -1]:\n",
      "                    selected_instruments_bucket.append(instrument)\n",
      "                    sideband_info_bucket.append({'action': 'EXIT'})\n",
      "        return selected_instruments_bucket, sideband_info_bucket\n",
      "\n",
      "    def strategy_exit_position(self, candle, instrument, sideband_info):\n",
      "        if sideband_info['action'] == 'EXIT':\n",
      "            self.main_order[instrument].exit_position()\n",
      "            self.main_order[instrument] = None\n",
      "            return True\n",
      "\n",
      "        return False\n",
      "\n"
     ]
    }
   ],
   "source": [
    "strategy_details1 = algobulls_connection.get_strategy_details(strategy_code1)\n",
    "print(strategy_details1)"
   ]
  },
  {
   "cell_type": "markdown",
   "metadata": {},
   "source": [
    "### Recipe 2: EMA-Regular-Order Strategy: Real Trading the Strategy"
   ]
  },
  {
   "cell_type": "code",
   "execution_count": 8,
   "metadata": {},
   "outputs": [],
   "source": [
    "from datetime import time\n",
    "from pyalgotrading.constants import *"
   ]
  },
  {
   "cell_type": "code",
   "execution_count": 9,
   "metadata": {},
   "outputs": [
    {
     "data": {
      "text/plain": [
       "[{'id': 7, 'value': 'NSE:SBIN'}]"
      ]
     },
     "execution_count": 9,
     "metadata": {},
     "output_type": "execute_result"
    }
   ],
   "source": [
    "instruments = algobulls_connection.search_instrument('SBIN')\n",
    "instruments"
   ]
  },
  {
   "cell_type": "code",
   "execution_count": 10,
   "metadata": {},
   "outputs": [
    {
     "data": {
      "text/plain": [
       "'NSE:SBIN'"
      ]
     },
     "execution_count": 10,
     "metadata": {},
     "output_type": "execute_result"
    }
   ],
   "source": [
    "instrument = instruments[0]['value']\n",
    "instrument"
   ]
  },
  {
   "cell_type": "code",
   "execution_count": 11,
   "metadata": {},
   "outputs": [
    {
     "name": "stdout",
     "output_type": "stream",
     "text": [
      "Setting Strategy Config... Success.\n",
      "Submitting REALTRADING job... Success.\n"
     ]
    }
   ],
   "source": [
    "algobulls_connection.realtrade(strategy_code=strategy_code1, \n",
    "                               start_time=time(hour=9, minute=15), \n",
    "                               end_time=time(hour=15, minute=30), \n",
    "                               instrument=instrument, \n",
    "                               lots=1,\n",
    "                               strategy_parameters={\n",
    "                                   'timeperiod1': 5, \n",
    "                                    'timeperiod2': 12\n",
    "                               },\n",
    "                               candle_interval=CandleInterval.MINUTES_15)"
   ]
  },
  {
   "cell_type": "code",
   "execution_count": 12,
   "metadata": {},
   "outputs": [
    {
     "data": {
      "text/plain": [
       "{'data': 'STARTING'}"
      ]
     },
     "execution_count": 12,
     "metadata": {},
     "output_type": "execute_result"
    }
   ],
   "source": [
    "algobulls_connection.get_realtrading_job_status(strategy_code1)"
   ]
  },
  {
   "cell_type": "code",
   "execution_count": 13,
   "metadata": {},
   "outputs": [
    {
     "data": {
      "text/plain": [
       "{'data': 'STARTED'}"
      ]
     },
     "execution_count": 13,
     "metadata": {},
     "output_type": "execute_result"
    }
   ],
   "source": [
    "algobulls_connection.get_realtrading_job_status(strategy_code1)"
   ]
  },
  {
   "cell_type": "markdown",
   "metadata": {},
   "source": [
    "### There's more..."
   ]
  },
  {
   "cell_type": "code",
   "execution_count": 14,
   "metadata": {},
   "outputs": [
    {
     "name": "stdout",
     "output_type": "stream",
     "text": [
      "Stopping REALTRADING job... Success.\n"
     ]
    }
   ],
   "source": [
    "algobulls_connection.stop_realtrading_job(strategy_code1)"
   ]
  },
  {
   "cell_type": "code",
   "execution_count": 15,
   "metadata": {},
   "outputs": [
    {
     "data": {
      "text/plain": [
       "{'data': 'STOPPING'}"
      ]
     },
     "execution_count": 15,
     "metadata": {},
     "output_type": "execute_result"
    }
   ],
   "source": [
    "algobulls_connection.get_realtrading_job_status(strategy_code1)"
   ]
  },
  {
   "cell_type": "code",
   "execution_count": 16,
   "metadata": {},
   "outputs": [
    {
     "data": {
      "text/plain": [
       "{'data': 'STOPPED'}"
      ]
     },
     "execution_count": 16,
     "metadata": {},
     "output_type": "execute_result"
    }
   ],
   "source": [
    "algobulls_connection.get_realtrading_job_status(strategy_code1)"
   ]
  },
  {
   "cell_type": "markdown",
   "metadata": {},
   "source": [
    "<img src=\"images/diagrams/abc-job-status-state-diagram.png\" width='50%'>"
   ]
  },
  {
   "cell_type": "markdown",
   "metadata": {},
   "source": [
    "### Recipe 3: EMA-Regular-Order Strategy: Fetching Real Trading Logs in Realtime"
   ]
  },
  {
   "cell_type": "code",
   "execution_count": 17,
   "metadata": {
    "scrolled": true
   },
   "outputs": [
    {
     "name": "stdout",
     "output_type": "stream",
     "text": [
      "[2020-07-09 09:12:25] Logs not available yet. Please retry in sometime.\n"
     ]
    }
   ],
   "source": [
    "logs = algobulls_connection.get_realtrading_logs(strategy_code1)\n",
    "print(logs)"
   ]
  },
  {
   "cell_type": "code",
   "execution_count": 18,
   "metadata": {},
   "outputs": [
    {
     "name": "stdout",
     "output_type": "stream",
     "text": [
      "[2020-07-09 09:13:02] Performing sanity checks on cfg strategy_parameters, setting up broker connection and required data structures...\n",
      "[2020-07-09 09:13:02] ABBroker connection has been setup successfully.\n",
      "[2020-07-09 09:13:02] Sanity checks on cfg successful.\n",
      "[2020-07-09 09:13:02] Setting up broker connection...\n",
      "[2020-07-09 09:13:05] Broker connection has been setup successfully.\n",
      "[2020-07-09 09:13:05] (NSE_EQ) Funds available in client's AliceBlue account is : Rs. '10110.60'\n",
      "[2020-07-09 09:13:05] [QUERYING] Sanity check: Ensuring all instruments are affordable...\n",
      "[2020-07-09 09:13:05] [PASSED] Sanity check: All instruments are affordable\n",
      "[2020-07-09 09:13:05] \n",
      "########################################\n",
      " INITIALIZING ALGOBULLS CORE (v3.2.0)... \n",
      "########################################\n",
      "[2020-07-09 09:13:05] Welcome PUSHPAK MAHAVIR DAGADE!\n",
      "[2020-07-09 09:13:05] Reading strategy...\n",
      "[2020-07-09 09:13:05] STARTING ALGOBULLS CORE...\n",
      "[2020-07-09 09:13:05] \n",
      "            \n",
      "  #####  #######    #    ######  ####### ### #     #  #####     \n",
      " #     #    #      # #   #     #    #     #  ##    # #     #    \n",
      " #          #     #   #  #     #    #     #  # #   # #          \n",
      "  #####     #    #     # ######     #     #  #  #  # #  ####    \n",
      "       #    #    ####### #   #      #     #  #   # # #     #    \n",
      " #     #    #    #     # #    #     #     #  #    ## #     #    \n",
      "  #####     #    #     # #     #    #    ### #     #  #####     \n",
      "\n",
      "    #    #        #####  ####### ######  #     # #       #        #####    \n",
      "   # #   #       #     # #     # #     # #     # #       #       #     #   \n",
      "  #   #  #       #       #     # #     # #     # #       #       #         \n",
      " #     # #       #  #### #     # ######  #     # #       #        #####    \n",
      " ####### #       #     # #     # #     # #     # #       #             #   \n",
      " #     # #       #     # #     # #     # #     # #       #       #     #   \n",
      " #     # #######  #####  ####### ######   #####  ####### #######  #####    \n",
      "\n",
      "  #####  ####### ######  #######\n",
      " #     # #     # #     # #\n",
      " #       #     # #     # #\n",
      " #       #     # ######  #####\n",
      " #       #     # #   #   #\n",
      " #     # #     # #    #  #\n",
      "  #####  ####### #     # ####### \n",
      "\n",
      "[2020-07-09 09:13:05] [INFO] [tls] --------------------Master Cfg Parameters:--------------------\n",
      "[2020-07-09 09:13:05] [INFO] [tls] User: PUSHPAK MAHAVIR DAGADE\n",
      "[2020-07-09 09:13:05] [INFO] [tls] Broker: ALICEBLUE\n",
      "[2020-07-09 09:13:05] [INFO] [tls] AUTO_ADD_INSTRUMENTS_BUCKET_FROM_POSITIONS: False\n",
      "[2020-07-09 09:13:05] [INFO] [tls] AUTO_ADD_INSTRUMENTS_BUCKET_FROM_HOLDINGS_TPLUS1: False\n",
      "[2020-07-09 09:13:05] [INFO] [tls] AUTO_ADD_INSTRUMENTS_BUCKET_FROM_HOLDINGS_TPLUS2: False\n",
      "[2020-07-09 09:13:05] [INFO] [tls] RESUME_POSITIONS_ON_START: False\n",
      "[2020-07-09 09:13:05] [INFO] [tls] RESUME_HOLDINGS_TPLUS1_ON_START: False\n",
      "[2020-07-09 09:13:05] [INFO] [tls] RESUME_HOLDINGS_TPLUS2_ON_START: False\n",
      "[2020-07-09 09:13:05] [INFO] [tls] EXIT_INTRADAY_ORDERS_ON_STOP: False\n",
      "[2020-07-09 09:13:05] [INFO] [tls] EXIT_TPLUS1_DELIVERY_ORDERS_ON_STOP: False\n",
      "[2020-07-09 09:13:05] [INFO] [tls] EXIT_TPLUS2_DELIVERY_ORDERS_ON_STOP: False\n",
      "[2020-07-09 09:13:05] [INFO] [tls] --------------------User Cfg Parameters: System Parameters--------------------\n",
      "[2020-07-09 09:13:05] [INFO] [tls] Trading type: REALTRADING\n",
      "[2020-07-09 09:13:05] [INFO] [tls] User trading start time: 2020-07-09 09:15:00\n",
      "[2020-07-09 09:13:05] [INFO] [tls] User trading end time: 2020-07-09 15:30:00\n",
      "[2020-07-09 09:13:05] [INFO] [tls] --------------------User Cfg Parameters: Funds Parameters--------------------\n",
      "[2020-07-09 09:13:05] [INFO] [tls] Credit Exposure: 1000\n",
      "[2020-07-09 09:13:05] [INFO] [tls] Fund Allocator: FundAllocatorLots\n",
      "[2020-07-09 09:13:05] [INFO] [tls] Fund Allocator Parameters: {'NUMBER_OF_LOTS': 1}\n",
      "[2020-07-09 09:13:05] [INFO] [tls] --------------------User Cfg Parameters: Candle Parameters--------------------\n",
      "[2020-07-09 09:13:05] [INFO] [tls] Candle interval (sec): 60\n",
      "[2020-07-09 09:13:05] [INFO] [tls] --------------------User Cfg Parameters: Strategy Parameters--------------------\n",
      "[2020-07-09 09:13:05] [INFO] [tls] Strategy: EMA Regular Order Strategy\n",
      "[2020-07-09 09:13:05] [INFO] [tls] Parameters: {'timeperiod1': 5, 'timeperiod2': 12}\n",
      "[2020-07-09 09:13:05] [INFO] [tls] Strategy Mode: INTRADAY\n",
      "[2020-07-09 09:13:05] [INFO] [tls] Instruments Bucket: instruments_bucket | [NSE_EQ:SBIN]\n",
      "[2020-07-09 09:13:05] [INFO] [tls] --------------------User Cfg Parameters: Other Parameters--------------------\n",
      "[2020-07-09 09:13:05] [INFO] [tls] Allow multiple orders for same script: True\n",
      "[2020-07-09 09:13:05] [INFO] [tls] Allow new order when order for script already running: True\n",
      "[2020-07-09 09:13:05] [INFO] [tls] Instrument max orders count: 100\n",
      "[2020-07-09 09:13:05] [INFO] [tls] Remove Instrument if Order Rejected: False\n",
      "[2020-07-09 09:13:05] [INFO] [tls] ------------------------------------------------------------\n",
      "[2020-07-09 09:13:05] [INFO] [utils] Instrument (NSE_EQ:SBIN) subscribed to historical data successfully\n",
      "[2020-07-09 09:13:05] [INFO] [utils] 1 Instrument(s) (re)subscribed to historical data successfully\n",
      "[2020-07-09 09:13:05] [INFO] [utils] Prefetching historical data for 1 instruments...\n",
      "[2020-07-09 09:13:05] [INFO] [strategy] (NSE_EQ) Funds available in client's AliceBlue account is : Rs. '10110.60'\n",
      "[2020-07-09 09:13:05] \n",
      "####################\n",
      "Strategy Parameters:\n",
      "StrategyParameters([('timeperiod1', 5), ('timeperiod2', 12)])\n",
      "####################\n",
      "[2020-07-09 09:15:00] [INFO] [utils] 1 Instrument(s) (re)subscribed to historical data successfully\n",
      "[2020-07-09 09:15:00] [INFO] [clock] Waiting for 900.00 seconds until end of current candle (2020-07-09 09:30:00)...\n",
      "[2020-07-09 09:30:00] [INFO] [clock] Waiting for 900.00 seconds until end of current candle (2020-07-09 09:45:00)...\n",
      "[2020-07-09 09:45:00] [INFO] [clock] Waiting for 900.00 seconds until end of current candle (2020-07-09 10:00:00)...\n",
      "[2020-07-09 10:00:00] [INFO] [clock] Waiting for 900.00 seconds until end of current candle (2020-07-09 10:15:00)...\n",
      "[2020-07-09 10:15:00] [INFO] [clock] Waiting for 900.00 seconds until end of current candle (2020-07-09 10:30:00)...\n",
      "[2020-07-09 10:30:00] [INFO] [tls] Entering position for instrument: NSE_EQ:SBIN...\n",
      "[2020-07-09 10:30:00] [CRITICAL] [order] [PLACING NEW ORDER] [2020-07-09 10:30:00] [2b079bc873f64f53a33f91b6ceec707b] [BUY] [NSE:SBIN] [QTY:1] [QTY PENDING: 1] [ENTRY PRICE: 194.7] [PRICE:None] [TRIGGER PRICE:None] [ORDER_TYPE_REGULAR] [ORDER_CODE_INTRADAY] [ORDER_VARIETY_MARKET] [ORDER_POSITION_ENTER]\n",
      "[2020-07-09 10:30:00] [INFO] [positions] Created new Position: Position: [BUY] [NSE:SBIN] [QTY:1] [ORDER_TYPE_REGULAR] [ORDER_CODE_INTRADAY]\n",
      "[2020-07-09 10:30:00] [INFO] [order] [ORDER ID RECEIVED] [AliceBlue] [ID:2b079bc873f64f53a33f91b6ceec707b] [BUY] [NSE_EQ:SBIN] [Order ID: (Order: [2020-07-09 10:30:00] [2b079bc873f64f53a33f91b6ceec707b] [BUY] [NSE:SBIN] [QTY:1] [QTY PENDING: 1] [ENTRY PRICE: 194.7] [PRICE:None] [TRIGGER PRICE:None] [ORDER_TYPE_REGULAR] [ORDER_CODE_INTRADAY] [ORDER_VARIETY_MARKET] [ORDER_POSITION_ENTER])\n",
      "Status History: PUT ORDER REQ RECEIVED --> VALIDATION PENDING --> OPEN PENDING --> OPEN --> COMPLETE)]\n",
      "[2020-07-09 10:30:00] [INFO] [order] [NEW ORDER SUCCESS] [2020-07-09 10:30:00] [2b079bc873f64f53a33f91b6ceec707b] [BUY] [NSE:SBIN] [QTY:1] [QTY PENDING: 1] [ENTRY PRICE: 194.7] [PRICE:None] [TRIGGER PRICE:None] [ORDER_TYPE_REGULAR] [ORDER_CODE_INTRADAY] [ORDER_VARIETY_MARKET] [ORDER_POSITION_ENTER] [STATUS:COMPLETE]\n",
      "[2020-07-09 10:30:00] [INFO] [tls] Instrument entered position: NSE_EQ:SBIN. Order placed\n",
      "[2020-07-09 10:30:00] [INFO] [clock] Waiting for 900.00 seconds until end of current candle (2020-07-09 10:45:00)...\n",
      "[2020-07-09 10:45:00] [CRITICAL] [order] [PLACING NEW ORDER] [2020-07-09 10:45:00] [8a8e7403cc7241c9ae4d922744b4d214] [SELL] [NSE:SBIN] [QTY:1] [QTY PENDING: 1] [ENTRY PRICE: 194.0] [PRICE:None] [TRIGGER PRICE:None] [ORDER_TYPE_REGULAR] [ORDER_CODE_INTRADAY] [ORDER_VARIETY_MARKET] [ORDER_POSITION_EXIT]\n",
      "[2020-07-09 10:45:00] [INFO] [order] [ORDER ID RECEIVED] [AliceBlue] [ID:8a8e7403cc7241c9ae4d922744b4d214] [SELL] [NSE_EQ:SBIN] [Order ID: (Order: [2020-07-09 10:45:00] [8a8e7403cc7241c9ae4d922744b4d214] [SELL] [NSE:SBIN] [QTY:1] [QTY PENDING: 0] [ENTRY PRICE: 194.0] [PRICE:None] [TRIGGER PRICE:None] [ORDER_TYPE_REGULAR] [ORDER_CODE_INTRADAY] [ORDER_VARIETY_MARKET] [ORDER_POSITION_EXIT])\n",
      "Status History: PUT ORDER REQ RECEIVED --> VALIDATION PENDING --> OPEN PENDING --> OPEN --> COMPLETE)]\n",
      "[2020-07-09 10:45:00] [INFO] [order] [NEW ORDER SUCCESS] [2020-07-09 10:45:00] [8a8e7403cc7241c9ae4d922744b4d214] [SELL] [NSE:SBIN] [QTY:1] [QTY PENDING: 0] [ENTRY PRICE: 194.0] [PRICE:None] [TRIGGER PRICE:None] [ORDER_TYPE_REGULAR] [ORDER_CODE_INTRADAY] [ORDER_VARIETY_MARKET] [ORDER_POSITION_EXIT] [STATUS:COMPLETE]\n",
      "[2020-07-09 10:45:00] [INFO] [tls] Entering position for instrument: NSE_EQ:SBIN...\n",
      "[2020-07-09 10:45:00] [CRITICAL] [order] [PLACING NEW ORDER] [2020-07-09 10:45:00] [20e9e182a39541a58555d82edb7d4524] [SELL] [NSE:SBIN] [QTY:1] [QTY PENDING: 1] [ENTRY PRICE: 194.0] [PRICE:None] [TRIGGER PRICE:None] [ORDER_TYPE_REGULAR] [ORDER_CODE_INTRADAY] [ORDER_VARIETY_MARKET] [ORDER_POSITION_ENTER]\n",
      "[2020-07-09 10:45:00] [INFO] [positions] Created new Position: Position: [SELL] [NSE:SBIN] [QTY:-1] [ORDER_TYPE_REGULAR] [ORDER_CODE_INTRADAY]\n",
      "[2020-07-09 10:45:00] [INFO] [order] [ORDER ID RECEIVED] [AliceBlue] [ID:20e9e182a39541a58555d82edb7d4524] [SELL] [NSE_EQ:SBIN] [Order ID: (Order: [2020-07-09 10:45:00] [20e9e182a39541a58555d82edb7d4524] [SELL] [NSE:SBIN] [QTY:1] [QTY PENDING: 1] [ENTRY PRICE: 194.0] [PRICE:None] [TRIGGER PRICE:None] [ORDER_TYPE_REGULAR] [ORDER_CODE_INTRADAY] [ORDER_VARIETY_MARKET] [ORDER_POSITION_ENTER])\n",
      "Status History: PUT ORDER REQ RECEIVED --> VALIDATION PENDING --> OPEN PENDING --> OPEN --> COMPLETE)]\n",
      "[2020-07-09 10:45:00] [INFO] [order] [NEW ORDER SUCCESS] [2020-07-09 10:45:00] [20e9e182a39541a58555d82edb7d4524] [SELL] [NSE:SBIN] [QTY:1] [QTY PENDING: 1] [ENTRY PRICE: 194.0] [PRICE:None] [TRIGGER PRICE:None] [ORDER_TYPE_REGULAR] [ORDER_CODE_INTRADAY] [ORDER_VARIETY_MARKET] [ORDER_POSITION_ENTER] [STATUS:COMPLETE]\n",
      "[2020-07-09 10:45:00] [INFO] [tls] Instrument entered position: NSE_EQ:SBIN. Order placed\n",
      "[2020-07-09 10:45:00] [INFO] [clock] Waiting for 900.00 seconds until end of current candle (2020-07-09 11:00:00)...\n",
      "[2020-07-09 11:00:00] [INFO] [clock] Waiting for 900.00 seconds until end of current candle (2020-07-09 11:15:00)...\n",
      "[2020-07-09 11:15:00] [CRITICAL] [order] [PLACING NEW ORDER] [2020-07-09 11:15:00] [1176d17c1fcb40d68568059de2feec5f] [BUY] [NSE:SBIN] [QTY:1] [QTY PENDING: 1] [ENTRY PRICE: 194.75] [PRICE:None] [TRIGGER PRICE:None] [ORDER_TYPE_REGULAR] [ORDER_CODE_INTRADAY] [ORDER_VARIETY_MARKET] [ORDER_POSITION_EXIT]\n",
      "[2020-07-09 11:15:00] [INFO] [order] [ORDER ID RECEIVED] [AliceBlue] [ID:1176d17c1fcb40d68568059de2feec5f] [BUY] [NSE_EQ:SBIN] [Order ID: (Order: [2020-07-09 11:15:00] [1176d17c1fcb40d68568059de2feec5f] [BUY] [NSE:SBIN] [QTY:1] [QTY PENDING: 0] [ENTRY PRICE: 194.75] [PRICE:None] [TRIGGER PRICE:None] [ORDER_TYPE_REGULAR] [ORDER_CODE_INTRADAY] [ORDER_VARIETY_MARKET] [ORDER_POSITION_EXIT])\n",
      "Status History: PUT ORDER REQ RECEIVED --> VALIDATION PENDING --> OPEN PENDING --> OPEN --> COMPLETE)]\n",
      "[2020-07-09 11:15:00] [INFO] [order] [NEW ORDER SUCCESS] [2020-07-09 11:15:00] [1176d17c1fcb40d68568059de2feec5f] [BUY] [NSE:SBIN] [QTY:1] [QTY PENDING: 0] [ENTRY PRICE: 194.75] [PRICE:None] [TRIGGER PRICE:None] [ORDER_TYPE_REGULAR] [ORDER_CODE_INTRADAY] [ORDER_VARIETY_MARKET] [ORDER_POSITION_EXIT] [STATUS:COMPLETE]\n",
      "[2020-07-09 11:15:00] [INFO] [tls] Entering position for instrument: NSE_EQ:SBIN...\n",
      "[2020-07-09 11:15:00] [CRITICAL] [order] [PLACING NEW ORDER] [2020-07-09 11:15:00] [e4a65eeb95184ebcb84ebd944e5af81f] [BUY] [NSE:SBIN] [QTY:1] [QTY PENDING: 1] [ENTRY PRICE: 194.75] [PRICE:None] [TRIGGER PRICE:None] [ORDER_TYPE_REGULAR] [ORDER_CODE_INTRADAY] [ORDER_VARIETY_MARKET] [ORDER_POSITION_ENTER]\n",
      "[2020-07-09 11:15:00] [INFO] [positions] Created new Position: Position: [BUY] [NSE:SBIN] [QTY:1] [ORDER_TYPE_REGULAR] [ORDER_CODE_INTRADAY]\n",
      "[2020-07-09 11:15:00] [INFO] [order] [ORDER ID RECEIVED] [AliceBlue] [ID:e4a65eeb95184ebcb84ebd944e5af81f] [BUY] [NSE_EQ:SBIN] [Order ID: (Order: [2020-07-09 11:15:00] [e4a65eeb95184ebcb84ebd944e5af81f] [BUY] [NSE:SBIN] [QTY:1] [QTY PENDING: 1] [ENTRY PRICE: 194.75] [PRICE:None] [TRIGGER PRICE:None] [ORDER_TYPE_REGULAR] [ORDER_CODE_INTRADAY] [ORDER_VARIETY_MARKET] [ORDER_POSITION_ENTER])\n",
      "Status History: PUT ORDER REQ RECEIVED --> VALIDATION PENDING --> OPEN PENDING --> OPEN --> COMPLETE)]\n",
      "[2020-07-09 11:15:00] [INFO] [order] [NEW ORDER SUCCESS] [2020-07-09 11:15:00] [e4a65eeb95184ebcb84ebd944e5af81f] [BUY] [NSE:SBIN] [QTY:1] [QTY PENDING: 1] [ENTRY PRICE: 194.75] [PRICE:None] [TRIGGER PRICE:None] [ORDER_TYPE_REGULAR] [ORDER_CODE_INTRADAY] [ORDER_VARIETY_MARKET] [ORDER_POSITION_ENTER] [STATUS:COMPLETE]\n",
      "[2020-07-09 11:15:00] [INFO] [tls] Instrument entered position: NSE_EQ:SBIN. Order placed\n",
      "[2020-07-09 11:15:00] [INFO] [clock] Waiting for 900.00 seconds until end of current candle (2020-07-09 11:30:00)...\n",
      "[2020-07-09 11:30:00] [CRITICAL] [order] [PLACING NEW ORDER] [2020-07-09 11:30:00] [4179892e63b24d69a6005ca55726352f] [SELL] [NSE:SBIN] [QTY:1] [QTY PENDING: 1] [ENTRY PRICE: 194.05] [PRICE:None] [TRIGGER PRICE:None] [ORDER_TYPE_REGULAR] [ORDER_CODE_INTRADAY] [ORDER_VARIETY_MARKET] [ORDER_POSITION_EXIT]\n",
      "[2020-07-09 11:30:00] [INFO] [order] [ORDER ID RECEIVED] [AliceBlue] [ID:4179892e63b24d69a6005ca55726352f] [SELL] [NSE_EQ:SBIN] [Order ID: (Order: [2020-07-09 11:30:00] [4179892e63b24d69a6005ca55726352f] [SELL] [NSE:SBIN] [QTY:1] [QTY PENDING: 0] [ENTRY PRICE: 194.05] [PRICE:None] [TRIGGER PRICE:None] [ORDER_TYPE_REGULAR] [ORDER_CODE_INTRADAY] [ORDER_VARIETY_MARKET] [ORDER_POSITION_EXIT])\n",
      "Status History: PUT ORDER REQ RECEIVED --> VALIDATION PENDING --> OPEN PENDING --> OPEN --> COMPLETE)]\n",
      "[2020-07-09 11:30:00] [INFO] [order] [NEW ORDER SUCCESS] [2020-07-09 11:30:00] [4179892e63b24d69a6005ca55726352f] [SELL] [NSE:SBIN] [QTY:1] [QTY PENDING: 0] [ENTRY PRICE: 194.05] [PRICE:None] [TRIGGER PRICE:None] [ORDER_TYPE_REGULAR] [ORDER_CODE_INTRADAY] [ORDER_VARIETY_MARKET] [ORDER_POSITION_EXIT] [STATUS:COMPLETE]\n",
      "[2020-07-09 11:30:00] [INFO] [tls] Entering position for instrument: NSE_EQ:SBIN...\n",
      "[2020-07-09 11:30:00] [CRITICAL] [order] [PLACING NEW ORDER] [2020-07-09 11:30:00] [d65b94b73c0d4073bb4833492c6e1999] [SELL] [NSE:SBIN] [QTY:1] [QTY PENDING: 1] [ENTRY PRICE: 194.05] [PRICE:None] [TRIGGER PRICE:None] [ORDER_TYPE_REGULAR] [ORDER_CODE_INTRADAY] [ORDER_VARIETY_MARKET] [ORDER_POSITION_ENTER]\n",
      "[2020-07-09 11:30:00] [INFO] [positions] Created new Position: Position: [SELL] [NSE:SBIN] [QTY:-1] [ORDER_TYPE_REGULAR] [ORDER_CODE_INTRADAY]\n",
      "[2020-07-09 11:30:00] [INFO] [order] [ORDER ID RECEIVED] [AliceBlue] [ID:d65b94b73c0d4073bb4833492c6e1999] [SELL] [NSE_EQ:SBIN] [Order ID: (Order: [2020-07-09 11:30:00] [d65b94b73c0d4073bb4833492c6e1999] [SELL] [NSE:SBIN] [QTY:1] [QTY PENDING: 1] [ENTRY PRICE: 194.05] [PRICE:None] [TRIGGER PRICE:None] [ORDER_TYPE_REGULAR] [ORDER_CODE_INTRADAY] [ORDER_VARIETY_MARKET] [ORDER_POSITION_ENTER])\n",
      "Status History: PUT ORDER REQ RECEIVED --> VALIDATION PENDING --> OPEN PENDING --> OPEN --> COMPLETE)]\n",
      "[2020-07-09 11:30:00] [INFO] [order] [NEW ORDER SUCCESS] [2020-07-09 11:30:00] [d65b94b73c0d4073bb4833492c6e1999] [SELL] [NSE:SBIN] [QTY:1] [QTY PENDING: 1] [ENTRY PRICE: 194.05] [PRICE:None] [TRIGGER PRICE:None] [ORDER_TYPE_REGULAR] [ORDER_CODE_INTRADAY] [ORDER_VARIETY_MARKET] [ORDER_POSITION_ENTER] [STATUS:COMPLETE]\n",
      "[2020-07-09 11:30:00] [INFO] [tls] Instrument entered position: NSE_EQ:SBIN. Order placed\n",
      "[2020-07-09 11:30:00] [INFO] [clock] Waiting for 900.00 seconds until end of current candle (2020-07-09 11:45:00)...\n",
      "[2020-07-09 11:45:00] [INFO] [clock] Waiting for 900.00 seconds until end of current candle (2020-07-09 12:00:00)...\n",
      "[2020-07-09 12:00:00] [INFO] [clock] Waiting for 900.00 seconds until end of current candle (2020-07-09 12:15:00)...\n",
      "[2020-07-09 12:15:00] [INFO] [clock] Waiting for 900.00 seconds until end of current candle (2020-07-09 12:30:00)...\n",
      "[2020-07-09 12:30:00] [INFO] [clock] Waiting for 900.00 seconds until end of current candle (2020-07-09 12:45:00)...\n",
      "[2020-07-09 12:45:00] [CRITICAL] [order] [PLACING NEW ORDER] [2020-07-09 12:45:00] [6287a8e893314f41acaa37cd12d129fe] [BUY] [NSE:SBIN] [QTY:1] [QTY PENDING: 1] [ENTRY PRICE: 194.45] [PRICE:None] [TRIGGER PRICE:None] [ORDER_TYPE_REGULAR] [ORDER_CODE_INTRADAY] [ORDER_VARIETY_MARKET] [ORDER_POSITION_EXIT]\n",
      "[2020-07-09 12:45:00] [INFO] [order] [ORDER ID RECEIVED] [AliceBlue] [ID:6287a8e893314f41acaa37cd12d129fe] [BUY] [NSE_EQ:SBIN] [Order ID: (Order: [2020-07-09 12:45:00] [6287a8e893314f41acaa37cd12d129fe] [BUY] [NSE:SBIN] [QTY:1] [QTY PENDING: 0] [ENTRY PRICE: 194.45] [PRICE:None] [TRIGGER PRICE:None] [ORDER_TYPE_REGULAR] [ORDER_CODE_INTRADAY] [ORDER_VARIETY_MARKET] [ORDER_POSITION_EXIT])\n",
      "Status History: PUT ORDER REQ RECEIVED --> VALIDATION PENDING --> OPEN PENDING --> OPEN --> COMPLETE)]\n",
      "[2020-07-09 12:45:00] [INFO] [order] [NEW ORDER SUCCESS] [2020-07-09 12:45:00] [6287a8e893314f41acaa37cd12d129fe] [BUY] [NSE:SBIN] [QTY:1] [QTY PENDING: 0] [ENTRY PRICE: 194.45] [PRICE:None] [TRIGGER PRICE:None] [ORDER_TYPE_REGULAR] [ORDER_CODE_INTRADAY] [ORDER_VARIETY_MARKET] [ORDER_POSITION_EXIT] [STATUS:COMPLETE]\n",
      "[2020-07-09 12:45:00] [INFO] [tls] Entering position for instrument: NSE_EQ:SBIN...\n",
      "[2020-07-09 12:45:00] [CRITICAL] [order] [PLACING NEW ORDER] [2020-07-09 12:45:00] [32041c33d11f4d11a4c0c50fd6d7091e] [BUY] [NSE:SBIN] [QTY:1] [QTY PENDING: 1] [ENTRY PRICE: 194.45] [PRICE:None] [TRIGGER PRICE:None] [ORDER_TYPE_REGULAR] [ORDER_CODE_INTRADAY] [ORDER_VARIETY_MARKET] [ORDER_POSITION_ENTER]\n",
      "[2020-07-09 12:45:00] [INFO] [positions] Created new Position: Position: [BUY] [NSE:SBIN] [QTY:1] [ORDER_TYPE_REGULAR] [ORDER_CODE_INTRADAY]\n",
      "[2020-07-09 12:45:00] [INFO] [order] [ORDER ID RECEIVED] [AliceBlue] [ID:32041c33d11f4d11a4c0c50fd6d7091e] [BUY] [NSE_EQ:SBIN] [Order ID: (Order: [2020-07-09 12:45:00] [32041c33d11f4d11a4c0c50fd6d7091e] [BUY] [NSE:SBIN] [QTY:1] [QTY PENDING: 1] [ENTRY PRICE: 194.45] [PRICE:None] [TRIGGER PRICE:None] [ORDER_TYPE_REGULAR] [ORDER_CODE_INTRADAY] [ORDER_VARIETY_MARKET] [ORDER_POSITION_ENTER])\n",
      "Status History: PUT ORDER REQ RECEIVED --> VALIDATION PENDING --> OPEN PENDING --> OPEN --> COMPLETE)]\n",
      "[2020-07-09 12:45:00] [INFO] [order] [NEW ORDER SUCCESS] [2020-07-09 12:45:00] [32041c33d11f4d11a4c0c50fd6d7091e] [BUY] [NSE:SBIN] [QTY:1] [QTY PENDING: 1] [ENTRY PRICE: 194.45] [PRICE:None] [TRIGGER PRICE:None] [ORDER_TYPE_REGULAR] [ORDER_CODE_INTRADAY] [ORDER_VARIETY_MARKET] [ORDER_POSITION_ENTER] [STATUS:COMPLETE]\n",
      "[2020-07-09 12:45:00] [INFO] [tls] Instrument entered position: NSE_EQ:SBIN. Order placed\n",
      "[2020-07-09 12:45:00] [INFO] [clock] Waiting for 900.00 seconds until end of current candle (2020-07-09 13:00:00)...\n",
      "[2020-07-09 13:00:00] [INFO] [clock] Waiting for 900.00 seconds until end of current candle (2020-07-09 13:15:00)...\n",
      "[2020-07-09 13:15:00] [INFO] [clock] Waiting for 900.00 seconds until end of current candle (2020-07-09 13:30:00)...\n",
      "[2020-07-09 13:30:00] [INFO] [clock] Waiting for 900.00 seconds until end of current candle (2020-07-09 13:45:00)...\n",
      "[2020-07-09 13:45:00] [INFO] [clock] Waiting for 900.00 seconds until end of current candle (2020-07-09 14:00:00)...\n",
      "[2020-07-09 14:00:00] [INFO] [clock] Waiting for 900.00 seconds until end of current candle (2020-07-09 14:15:00)...\n",
      "[2020-07-09 14:15:00] [INFO] [clock] Waiting for 900.00 seconds until end of current candle (2020-07-09 14:30:00)...\n",
      "[2020-07-09 14:30:00] [INFO] [clock] Waiting for 900.00 seconds until end of current candle (2020-07-09 14:45:00)...\n",
      "[2020-07-09 14:45:00] [INFO] [clock] Waiting for 900.00 seconds until end of current candle (2020-07-09 15:00:00)...\n",
      "[2020-07-09 15:00:00] [INFO] [clock] Waiting for 900.00 seconds until end of current candle (2020-07-09 15:15:00)...\n",
      "[2020-07-09 15:15:00] [INFO] [clock] Waiting for 900.00 seconds until end of current candle (2020-07-09 15:30:00)...\n",
      "[2020-07-09 15:30:00] [INFO] [order] Exiting OPEN POSITION (Order: [2020-07-09 12:45:00] [32041c33d11f4d11a4c0c50fd6d7091e] [BUY] [NSE:SBIN] [QTY:1] [QTY PENDING: 1] [ENTRY PRICE: 194.45] [PRICE:None] [TRIGGER PRICE:None] [ORDER_TYPE_REGULAR] [ORDER_CODE_INTRADAY] [ORDER_VARIETY_MARKET] [ORDER_POSITION_ENTER])... \n",
      "[2020-07-09 15:30:00] [CRITICAL] [order] [PLACING NEW ORDER] [2020-07-09 15:30:00] [eca45c32b31d416382cbb268248c7ba4] [SELL] [NSE:SBIN] [QTY:1] [QTY PENDING: 1] [ENTRY PRICE: 200.0] [PRICE:None] [TRIGGER PRICE:None] [ORDER_TYPE_REGULAR] [ORDER_CODE_INTRADAY] [ORDER_VARIETY_MARKET] [ORDER_POSITION_EXIT]\n",
      "[2020-07-09 15:30:00] [INFO] [order] [ORDER ID RECEIVED] [AliceBlue] [ID:eca45c32b31d416382cbb268248c7ba4] [SELL] [NSE_EQ:SBIN] [Order ID: (Order: [2020-07-09 15:30:00] [eca45c32b31d416382cbb268248c7ba4] [SELL] [NSE:SBIN] [QTY:1] [QTY PENDING: 0] [ENTRY PRICE: 200.0] [PRICE:None] [TRIGGER PRICE:None] [ORDER_TYPE_REGULAR] [ORDER_CODE_INTRADAY] [ORDER_VARIETY_MARKET] [ORDER_POSITION_EXIT])\n",
      "Status History: PUT ORDER REQ RECEIVED --> VALIDATION PENDING --> OPEN PENDING --> OPEN --> COMPLETE)]\n",
      "[2020-07-09 15:30:00] [INFO] [order] [NEW ORDER SUCCESS] [2020-07-09 15:30:00] [eca45c32b31d416382cbb268248c7ba4] [SELL] [NSE:SBIN] [QTY:1] [QTY PENDING: 0] [ENTRY PRICE: 200.0] [PRICE:None] [TRIGGER PRICE:None] [ORDER_TYPE_REGULAR] [ORDER_CODE_INTRADAY] [ORDER_VARIETY_MARKET] [ORDER_POSITION_EXIT] [STATUS:COMPLETE]\n",
      "[2020-07-09 15:30:00] [INFO] [clock] Candle generation has been stopped...\n",
      "[2020-07-09 15:30:00] [INFO] [tls] Received event END OF MARKET. Stopping Trading Core Engine...\n",
      "[2020-07-09 15:30:00] [INFO] [tls] Exiting all open positions with order code: ORDER_CODE_INTRADAY (if any)...\n",
      "[2020-07-09 15:30:00] [CRITICAL] [tls] [User: PUSHPAK MAHAVIR DAGADE] Trading session completed\n",
      "\n"
     ]
    }
   ],
   "source": [
    "logs = algobulls_connection.get_realtrading_logs(strategy_code1)\n",
    "print(logs)"
   ]
  },
  {
   "cell_type": "markdown",
   "metadata": {},
   "source": [
    "### Recipe 4: EMA-Regular-Order Strategy: Fetching Real Trading Reports - Profit-n-Loss Table"
   ]
  },
  {
   "cell_type": "code",
   "execution_count": 19,
   "metadata": {
    "scrolled": true
   },
   "outputs": [
    {
     "data": {
      "text/html": [
       "<div>\n",
       "<style scoped>\n",
       "    .dataframe tbody tr th:only-of-type {\n",
       "        vertical-align: middle;\n",
       "    }\n",
       "\n",
       "    .dataframe tbody tr th {\n",
       "        vertical-align: top;\n",
       "    }\n",
       "\n",
       "    .dataframe thead th {\n",
       "        text-align: right;\n",
       "    }\n",
       "</style>\n",
       "<table border=\"1\" class=\"dataframe\">\n",
       "  <thead>\n",
       "    <tr style=\"text-align: right;\">\n",
       "      <th></th>\n",
       "      <th>instrument</th>\n",
       "      <th>entry_timestamp</th>\n",
       "      <th>entry_transaction_type</th>\n",
       "      <th>entry_quantity</th>\n",
       "      <th>entry_price</th>\n",
       "      <th>exit_timestamp</th>\n",
       "      <th>exit_transaction_type</th>\n",
       "      <th>exit_quantity</th>\n",
       "      <th>exit_price</th>\n",
       "      <th>pnl_absolute</th>\n",
       "      <th>pnl_percentage</th>\n",
       "      <th>pnl_cumulative_absolute</th>\n",
       "      <th>pnl_cumulative_percentage</th>\n",
       "    </tr>\n",
       "  </thead>\n",
       "  <tbody>\n",
       "    <tr>\n",
       "      <th>0</th>\n",
       "      <td>NSE_EQ:SBIN</td>\n",
       "      <td>2020-07-09 12:45:00</td>\n",
       "      <td>BUY</td>\n",
       "      <td>1</td>\n",
       "      <td>194.45</td>\n",
       "      <td>2020-07-09 15:30:00</td>\n",
       "      <td>SELL</td>\n",
       "      <td>1</td>\n",
       "      <td>200</td>\n",
       "      <td>5.55</td>\n",
       "      <td>2.85</td>\n",
       "      <td>3</td>\n",
       "      <td>1.53</td>\n",
       "    </tr>\n",
       "    <tr>\n",
       "      <th>1</th>\n",
       "      <td>NSE_EQ:SBIN</td>\n",
       "      <td>2020-07-09 11:30:00</td>\n",
       "      <td>SELL</td>\n",
       "      <td>1</td>\n",
       "      <td>194.05</td>\n",
       "      <td>2020-07-09 12:45:00</td>\n",
       "      <td>BUY</td>\n",
       "      <td>1</td>\n",
       "      <td>194.45</td>\n",
       "      <td>-0.4</td>\n",
       "      <td>-0.21</td>\n",
       "      <td>-2.55</td>\n",
       "      <td>-1.32</td>\n",
       "    </tr>\n",
       "    <tr>\n",
       "      <th>2</th>\n",
       "      <td>NSE_EQ:SBIN</td>\n",
       "      <td>2020-07-09 11:15:00</td>\n",
       "      <td>BUY</td>\n",
       "      <td>1</td>\n",
       "      <td>194.75</td>\n",
       "      <td>2020-07-09 11:30:00</td>\n",
       "      <td>SELL</td>\n",
       "      <td>1</td>\n",
       "      <td>194.05</td>\n",
       "      <td>-0.7</td>\n",
       "      <td>-0.36</td>\n",
       "      <td>-2.15</td>\n",
       "      <td>-1.11</td>\n",
       "    </tr>\n",
       "    <tr>\n",
       "      <th>3</th>\n",
       "      <td>NSE_EQ:SBIN</td>\n",
       "      <td>2020-07-09 10:45:00</td>\n",
       "      <td>SELL</td>\n",
       "      <td>1</td>\n",
       "      <td>194</td>\n",
       "      <td>2020-07-09 11:15:00</td>\n",
       "      <td>BUY</td>\n",
       "      <td>1</td>\n",
       "      <td>194.75</td>\n",
       "      <td>-0.75</td>\n",
       "      <td>-0.39</td>\n",
       "      <td>-1.45</td>\n",
       "      <td>-0.75</td>\n",
       "    </tr>\n",
       "    <tr>\n",
       "      <th>4</th>\n",
       "      <td>NSE_EQ:SBIN</td>\n",
       "      <td>2020-07-09 10:30:00</td>\n",
       "      <td>BUY</td>\n",
       "      <td>1</td>\n",
       "      <td>194.7</td>\n",
       "      <td>2020-07-09 10:45:00</td>\n",
       "      <td>SELL</td>\n",
       "      <td>1</td>\n",
       "      <td>194</td>\n",
       "      <td>-0.7</td>\n",
       "      <td>-0.36</td>\n",
       "      <td>-0.7</td>\n",
       "      <td>-0.36</td>\n",
       "    </tr>\n",
       "  </tbody>\n",
       "</table>\n",
       "</div>"
      ],
      "text/plain": [
       "    instrument      entry_timestamp entry_transaction_type entry_quantity  \\\n",
       "0  NSE_EQ:SBIN  2020-07-09 12:45:00                    BUY              1   \n",
       "1  NSE_EQ:SBIN  2020-07-09 11:30:00                   SELL              1   \n",
       "2  NSE_EQ:SBIN  2020-07-09 11:15:00                    BUY              1   \n",
       "3  NSE_EQ:SBIN  2020-07-09 10:45:00                   SELL              1   \n",
       "4  NSE_EQ:SBIN  2020-07-09 10:30:00                    BUY              1   \n",
       "\n",
       "  entry_price       exit_timestamp exit_transaction_type exit_quantity  \\\n",
       "0      194.45  2020-07-09 15:30:00                  SELL             1   \n",
       "1      194.05  2020-07-09 12:45:00                   BUY             1   \n",
       "2      194.75  2020-07-09 11:30:00                  SELL             1   \n",
       "3         194  2020-07-09 11:15:00                   BUY             1   \n",
       "4       194.7  2020-07-09 10:45:00                  SELL             1   \n",
       "\n",
       "  exit_price pnl_absolute pnl_percentage pnl_cumulative_absolute  \\\n",
       "0        200         5.55           2.85                       3   \n",
       "1     194.45         -0.4          -0.21                   -2.55   \n",
       "2     194.05         -0.7          -0.36                   -2.15   \n",
       "3     194.75        -0.75          -0.39                   -1.45   \n",
       "4        194         -0.7          -0.36                    -0.7   \n",
       "\n",
       "  pnl_cumulative_percentage  \n",
       "0                      1.53  \n",
       "1                     -1.32  \n",
       "2                     -1.11  \n",
       "3                     -0.75  \n",
       "4                     -0.36  "
      ]
     },
     "execution_count": 19,
     "metadata": {},
     "output_type": "execute_result"
    }
   ],
   "source": [
    "algobulls_connection.get_papertrading_report_pnl_table(strategy_code1)"
   ]
  },
  {
   "cell_type": "markdown",
   "metadata": {},
   "source": [
    "### Recipe 5: EMA-Regular-Order Strategy: Fetching Real Trading Reports - Statistics Table"
   ]
  },
  {
   "cell_type": "code",
   "execution_count": 20,
   "metadata": {},
   "outputs": [
    {
     "data": {
      "text/html": [
       "<div>\n",
       "<style scoped>\n",
       "    .dataframe tbody tr th:only-of-type {\n",
       "        vertical-align: middle;\n",
       "    }\n",
       "\n",
       "    .dataframe tbody tr th {\n",
       "        vertical-align: top;\n",
       "    }\n",
       "\n",
       "    .dataframe thead th {\n",
       "        text-align: right;\n",
       "    }\n",
       "</style>\n",
       "<table border=\"1\" class=\"dataframe\">\n",
       "  <thead>\n",
       "    <tr style=\"text-align: right;\">\n",
       "      <th></th>\n",
       "      <th>highlight_type</th>\n",
       "      <th>highlight_value</th>\n",
       "    </tr>\n",
       "  </thead>\n",
       "  <tbody>\n",
       "    <tr>\n",
       "      <th>0</th>\n",
       "      <td>Net PnL</td>\n",
       "      <td>3.00</td>\n",
       "    </tr>\n",
       "    <tr>\n",
       "      <th>1</th>\n",
       "      <td>Net PnL %</td>\n",
       "      <td>1.53</td>\n",
       "    </tr>\n",
       "    <tr>\n",
       "      <th>2</th>\n",
       "      <td>Max Drawdown</td>\n",
       "      <td>-2.55</td>\n",
       "    </tr>\n",
       "    <tr>\n",
       "      <th>3</th>\n",
       "      <td>Max Drawdown %</td>\n",
       "      <td>-1.31</td>\n",
       "    </tr>\n",
       "    <tr>\n",
       "      <th>4</th>\n",
       "      <td>Number of Trades</td>\n",
       "      <td>5.00</td>\n",
       "    </tr>\n",
       "    <tr>\n",
       "      <th>5</th>\n",
       "      <td>Number of Wins</td>\n",
       "      <td>1.00</td>\n",
       "    </tr>\n",
       "    <tr>\n",
       "      <th>6</th>\n",
       "      <td>Number of Looses</td>\n",
       "      <td>4.00</td>\n",
       "    </tr>\n",
       "    <tr>\n",
       "      <th>7</th>\n",
       "      <td>Number of Long Trades</td>\n",
       "      <td>3.00</td>\n",
       "    </tr>\n",
       "    <tr>\n",
       "      <th>8</th>\n",
       "      <td>Number of Short Trades</td>\n",
       "      <td>2.00</td>\n",
       "    </tr>\n",
       "    <tr>\n",
       "      <th>9</th>\n",
       "      <td>Max Gain</td>\n",
       "      <td>5.55</td>\n",
       "    </tr>\n",
       "    <tr>\n",
       "      <th>10</th>\n",
       "      <td>Min Gain</td>\n",
       "      <td>-0.75</td>\n",
       "    </tr>\n",
       "    <tr>\n",
       "      <th>11</th>\n",
       "      <td>Avg. Profit per winning trade</td>\n",
       "      <td>5.55</td>\n",
       "    </tr>\n",
       "    <tr>\n",
       "      <th>12</th>\n",
       "      <td>Avg. Profit per losing trade</td>\n",
       "      <td>-0.64</td>\n",
       "    </tr>\n",
       "  </tbody>\n",
       "</table>\n",
       "</div>"
      ],
      "text/plain": [
       "                   highlight_type  highlight_value\n",
       "0                         Net PnL             3.00\n",
       "1                       Net PnL %             1.53\n",
       "2                    Max Drawdown            -2.55\n",
       "3                  Max Drawdown %            -1.31\n",
       "4                Number of Trades             5.00\n",
       "5                  Number of Wins             1.00\n",
       "6                Number of Looses             4.00\n",
       "7           Number of Long Trades             3.00\n",
       "8          Number of Short Trades             2.00\n",
       "9                        Max Gain             5.55\n",
       "10                       Min Gain            -0.75\n",
       "11  Avg. Profit per winning trade             5.55\n",
       "12   Avg. Profit per losing trade            -0.64"
      ]
     },
     "execution_count": 20,
     "metadata": {},
     "output_type": "execute_result"
    }
   ],
   "source": [
    "algobulls_connection.get_realtrading_report_statistics(strategy_code1)"
   ]
  },
  {
   "cell_type": "markdown",
   "metadata": {},
   "source": [
    "### Recipe 6: MACD-Bracket-Order Strategy: Fetching the Strategy"
   ]
  },
  {
   "cell_type": "code",
   "execution_count": 21,
   "metadata": {},
   "outputs": [],
   "source": [
    "from pyalgotrading.algobulls import AlgoBullsConnection"
   ]
  },
  {
   "cell_type": "code",
   "execution_count": 22,
   "metadata": {},
   "outputs": [],
   "source": [
    "algobulls_connection = AlgoBullsConnection()"
   ]
  },
  {
   "cell_type": "code",
   "execution_count": 23,
   "metadata": {},
   "outputs": [
    {
     "name": "stdout",
     "output_type": "stream",
     "text": [
      "Please login to this URL with your AlgoBulls credentials and get your developer access token: https://app.algobulls.com/user/login\n"
     ]
    },
    {
     "data": {
      "text/plain": [
       "'https://app.algobulls.com/user/login'"
      ]
     },
     "execution_count": 23,
     "metadata": {},
     "output_type": "execute_result"
    }
   ],
   "source": [
    "algobulls_connection.get_authorization_url()"
   ]
  },
  {
   "cell_type": "code",
   "execution_count": 24,
   "metadata": {},
   "outputs": [],
   "source": [
    "algobulls_connection.set_access_token('80b7a69b168c5b3f15d56688841a8f2da5e2ab2c')"
   ]
  },
  {
   "cell_type": "code",
   "execution_count": 25,
   "metadata": {},
   "outputs": [
    {
     "data": {
      "text/html": [
       "<div>\n",
       "<style scoped>\n",
       "    .dataframe tbody tr th:only-of-type {\n",
       "        vertical-align: middle;\n",
       "    }\n",
       "\n",
       "    .dataframe tbody tr th {\n",
       "        vertical-align: top;\n",
       "    }\n",
       "\n",
       "    .dataframe thead th {\n",
       "        text-align: right;\n",
       "    }\n",
       "</style>\n",
       "<table border=\"1\" class=\"dataframe\">\n",
       "  <thead>\n",
       "    <tr style=\"text-align: right;\">\n",
       "      <th></th>\n",
       "      <th>strategyCode</th>\n",
       "      <th>strategyName</th>\n",
       "    </tr>\n",
       "  </thead>\n",
       "  <tbody>\n",
       "    <tr>\n",
       "      <th>0</th>\n",
       "      <td>49287246f9704bbcbad76ade9e2091d9</td>\n",
       "      <td>EMA Regular Order Strategy</td>\n",
       "    </tr>\n",
       "    <tr>\n",
       "      <th>1</th>\n",
       "      <td>4faf514fe096432b8e9f80f5951bd2ea</td>\n",
       "      <td>MACD Bracket Order Strategy</td>\n",
       "    </tr>\n",
       "  </tbody>\n",
       "</table>\n",
       "</div>"
      ],
      "text/plain": [
       "                       strategyCode                 strategyName\n",
       "0  49287246f9704bbcbad76ade9e2091d9   EMA Regular Order Strategy\n",
       "1  4faf514fe096432b8e9f80f5951bd2ea  MACD Bracket Order Strategy"
      ]
     },
     "execution_count": 25,
     "metadata": {},
     "output_type": "execute_result"
    }
   ],
   "source": [
    "all_strategies = algobulls_connection.get_all_strategies()\n",
    "all_strategies"
   ]
  },
  {
   "cell_type": "code",
   "execution_count": 26,
   "metadata": {},
   "outputs": [
    {
     "data": {
      "text/plain": [
       "'4faf514fe096432b8e9f80f5951bd2ea'"
      ]
     },
     "execution_count": 26,
     "metadata": {},
     "output_type": "execute_result"
    }
   ],
   "source": [
    "strategy_code2 = all_strategies.iloc[1]['strategyCode']\n",
    "strategy_code2"
   ]
  },
  {
   "cell_type": "code",
   "execution_count": 27,
   "metadata": {},
   "outputs": [
    {
     "name": "stdout",
     "output_type": "stream",
     "text": [
      "class StrategyMACDBracketOrder(StrategyBase):\n",
      "\n",
      "    def __init__(self, *args, **kwargs):\n",
      "        super().__init__(*args, **kwargs)\n",
      "\n",
      "        self.fastMA_period = self.strategy_parameters['fastma_period']\n",
      "        self.slowMA_period = self.strategy_parameters['slowma_period']\n",
      "        self.signal_period = self.strategy_parameters['signal_period']\n",
      "        self.stoploss = self.strategy_parameters['stoploss_trigger']\n",
      "        self.target = self.strategy_parameters['target_trigger']\n",
      "        self.trailing_stoploss = self.strategy_parameters['trailing_stoploss_trigger']\n",
      "\n",
      "        self.main_order = None\n",
      "\n",
      "    def initialize(self):\n",
      "        self.main_order = {}\n",
      "\n",
      "    @staticmethod\n",
      "    def name():\n",
      "        return 'MACD Bracket Order Strategy'\n",
      "\n",
      "    @staticmethod\n",
      "    def versions_supported():\n",
      "        return AlgoBullsEngineVersion.VERSION_3_2_0\n",
      "\n",
      "    def get_crossover_value(self, instrument):\n",
      "        hist_data = self.get_historical_data(instrument)\n",
      "        macdline, macdsignal, _ = talib.MACD(hist_data['close'],\n",
      "                                             fastperiod=self.fastMA_period,\n",
      "                                             slowperiod=self.slowMA_period,\n",
      "                                             signalperiod=self.signal_period)\n",
      "        crossover_value = self.utils.crossover(macdline, macdsignal)\n",
      "        return crossover_value\n",
      "\n",
      "    def strategy_select_instruments_for_entry(self, candle, instruments_bucket):\n",
      "\n",
      "        selected_instruments_bucket = []\n",
      "        sideband_info_bucket = []\n",
      "\n",
      "        for instrument in instruments_bucket:\n",
      "            crossover_value = self.get_crossover_value(instrument)\n",
      "            if crossover_value == 1:\n",
      "                selected_instruments_bucket.append(instrument)\n",
      "                sideband_info_bucket.append({'action': 'BUY'})\n",
      "            elif crossover_value == -1:\n",
      "                if self.strategy_mode is StrategyMode.INTRADAY:\n",
      "                    selected_instruments_bucket.append(instrument)\n",
      "                    sideband_info_bucket.append({'action': 'SELL'})\n",
      "\n",
      "        return selected_instruments_bucket, sideband_info_bucket\n",
      "\n",
      "    def strategy_enter_position(self, candle, instrument, sideband_info):\n",
      "        if sideband_info['action'] == 'BUY':\n",
      "            qty = self.number_of_lots * instrument.lot_size\n",
      "            ltp = self.broker.get_ltp(instrument)\n",
      "            self.main_order[instrument] = \\\n",
      "                self.broker.BuyOrderBracket(instrument=instrument,\n",
      "                                            order_code=BrokerOrderCodeConstants.INTRADAY,\n",
      "                                            order_variety=BrokerOrderVarietyConstants.LIMIT,\n",
      "                                            quantity=qty,\n",
      "                                            price=ltp,\n",
      "                                            stoploss_trigger=ltp - (ltp * self.stoploss),\n",
      "                                            target_trigger=ltp + (ltp * self.target),\n",
      "                                            trailing_stoploss_trigger=ltp * self.trailing_stoploss)\n",
      "\n",
      "        elif sideband_info['action'] == 'SELL':\n",
      "            qty = self.number_of_lots * instrument.lot_size\n",
      "            ltp = self.broker.get_ltp(instrument)\n",
      "            self.main_order[instrument] = \\\n",
      "                self.broker.SellOrderBracket(instrument=instrument,\n",
      "                                             order_code=BrokerOrderCodeConstants.INTRADAY,\n",
      "                                             order_variety=BrokerOrderVarietyConstants.LIMIT,\n",
      "                                             quantity=qty,\n",
      "                                             price=ltp,\n",
      "                                             stoploss_trigger=ltp + (ltp * self.stoploss),\n",
      "                                             target_trigger=ltp - (ltp * self.target),\n",
      "                                             trailing_stoploss_trigger=ltp * self.trailing_stoploss)\n",
      "        else:\n",
      "            raise SystemExit(f'Got invalid sideband_info value: {sideband_info}')\n",
      "\n",
      "        return self.main_order[instrument]\n",
      "\n",
      "    def strategy_select_instruments_for_exit(self, candle, instruments_bucket):\n",
      "        selected_instruments_bucket = []\n",
      "        sideband_info_bucket = []\n",
      "\n",
      "        for instrument in instruments_bucket:\n",
      "            if self.main_order.get(instrument) is not None:\n",
      "                crossover_value = self.get_crossover_value(instrument)\n",
      "                if crossover_value in [1, -1]:\n",
      "                    selected_instruments_bucket.append(instrument)\n",
      "                    sideband_info_bucket.append({'action': 'EXIT'})\n",
      "        return selected_instruments_bucket, sideband_info_bucket\n",
      "\n",
      "    def strategy_exit_position(self, candle, instrument, sideband_info):\n",
      "        if sideband_info['action'] == 'EXIT':\n",
      "            self.main_order[instrument].exit_position()\n",
      "            self.main_order[instrument] = None\n",
      "            return True\n",
      "\n",
      "        return False\n",
      "\n"
     ]
    }
   ],
   "source": [
    "strategy_details2 = algobulls_connection.get_strategy_details(strategy_code2)\n",
    "print(strategy_details2)"
   ]
  },
  {
   "cell_type": "markdown",
   "metadata": {},
   "source": [
    "### Recipe 7: MACD-Bracket-Order Strategy: Real Trading the Strategy"
   ]
  },
  {
   "cell_type": "code",
   "execution_count": 28,
   "metadata": {},
   "outputs": [],
   "source": [
    "from datetime import time\n",
    "from pyalgotrading.constants import *"
   ]
  },
  {
   "cell_type": "code",
   "execution_count": 29,
   "metadata": {},
   "outputs": [
    {
     "data": {
      "text/plain": [
       "[{'id': 1, 'value': 'NSE:TATASTEEL'}]"
      ]
     },
     "execution_count": 29,
     "metadata": {},
     "output_type": "execute_result"
    }
   ],
   "source": [
    "instruments = algobulls_connection.search_instrument('TATASTEEL')\n",
    "instruments"
   ]
  },
  {
   "cell_type": "code",
   "execution_count": 30,
   "metadata": {},
   "outputs": [
    {
     "data": {
      "text/plain": [
       "'NSE:TATASTEEL'"
      ]
     },
     "execution_count": 30,
     "metadata": {},
     "output_type": "execute_result"
    }
   ],
   "source": [
    "instrument = instruments[0]['value']\n",
    "instrument"
   ]
  },
  {
   "cell_type": "code",
   "execution_count": 31,
   "metadata": {},
   "outputs": [
    {
     "name": "stdout",
     "output_type": "stream",
     "text": [
      "Setting Strategy Config... Success.\n",
      "Submitting REALTRADING job... Success.\n"
     ]
    }
   ],
   "source": [
    "algobulls_connection.realtrade(strategy_code=strategy_code2, \n",
    "                               start_time=time(hour=9, minute=15), \n",
    "                               end_time=time(hour=15, minute=30), \n",
    "                               instrument=instrument,\n",
    "                               lots=1,\n",
    "                               strategy_parameters={\n",
    "                                   'fastma_period': 26, \n",
    "                                   'slowma_period': 6, \n",
    "                                   'signal_period': 9,\n",
    "                                   'target_trigger': 0.01, \n",
    "                                   'stoploss_trigger': 0.01, \n",
    "                                   'trailing_stoploss_trigger': 1\n",
    "                               },\n",
    "                               candle_interval=CandleInterval.MINUTES_15)"
   ]
  },
  {
   "cell_type": "code",
   "execution_count": 32,
   "metadata": {},
   "outputs": [
    {
     "data": {
      "text/plain": [
       "{'data': 'STARTING'}"
      ]
     },
     "execution_count": 32,
     "metadata": {},
     "output_type": "execute_result"
    }
   ],
   "source": [
    "algobulls_connection.get_realtrading_job_status(strategy_code2)"
   ]
  },
  {
   "cell_type": "code",
   "execution_count": 33,
   "metadata": {},
   "outputs": [
    {
     "data": {
      "text/plain": [
       "{'data': 'STARTED'}"
      ]
     },
     "execution_count": 33,
     "metadata": {},
     "output_type": "execute_result"
    }
   ],
   "source": [
    "algobulls_connection.get_realtrading_job_status(strategy_code2)"
   ]
  },
  {
   "cell_type": "markdown",
   "metadata": {},
   "source": [
    "### There's more..."
   ]
  },
  {
   "cell_type": "code",
   "execution_count": 34,
   "metadata": {},
   "outputs": [
    {
     "name": "stdout",
     "output_type": "stream",
     "text": [
      "Stopping REALTRADING job... Success.\n"
     ]
    }
   ],
   "source": [
    "algobulls_connection.stop_realtrading_job(strategy_code2)"
   ]
  },
  {
   "cell_type": "code",
   "execution_count": 35,
   "metadata": {},
   "outputs": [
    {
     "data": {
      "text/plain": [
       "{'data': 'STOPPING'}"
      ]
     },
     "execution_count": 35,
     "metadata": {},
     "output_type": "execute_result"
    }
   ],
   "source": [
    "algobulls_connection.get_realtrading_job_status(strategy_code2)"
   ]
  },
  {
   "cell_type": "code",
   "execution_count": 36,
   "metadata": {},
   "outputs": [
    {
     "data": {
      "text/plain": [
       "{'data': 'STOPPED'}"
      ]
     },
     "execution_count": 36,
     "metadata": {},
     "output_type": "execute_result"
    }
   ],
   "source": [
    "algobulls_connection.get_realtrading_job_status(strategy_code2)"
   ]
  },
  {
   "cell_type": "markdown",
   "metadata": {},
   "source": [
    "<img src=\"images/diagrams/abc-job-status-state-diagram.png\" width='50%'>"
   ]
  },
  {
   "cell_type": "markdown",
   "metadata": {},
   "source": [
    "### Recipe 8: MACD-Bracket-Order Strategy: Fetching Real Trading Logs in Realtime"
   ]
  },
  {
   "cell_type": "code",
   "execution_count": 37,
   "metadata": {},
   "outputs": [
    {
     "name": "stdout",
     "output_type": "stream",
     "text": [
      "[2020-07-09 09:13:45] Logs not available yet. Please retry in sometime.\n"
     ]
    }
   ],
   "source": [
    "logs = algobulls_connection.get_realtrading_logs(strategy_code2)\n",
    "print(logs)"
   ]
  },
  {
   "cell_type": "code",
   "execution_count": 38,
   "metadata": {},
   "outputs": [
    {
     "name": "stdout",
     "output_type": "stream",
     "text": [
      "[2020-07-09 09:14:06] Performing sanity checks on cfg strategy_parameters, setting up broker connection and required data structures...\n",
      "[2020-07-09 09:14:06] ABBroker connection has been setup successfully.\n",
      "[2020-07-09 09:14:06] Sanity checks on cfg successful.\n",
      "[2020-07-09 09:14:06] Setting up broker connection...\n",
      "[2020-07-09 09:14:09] Broker connection has been setup successfully.\n",
      "[2020-07-09 09:14:09] (NSE_EQ) Funds available in client's AliceBlue account is : Rs. '10110.60'\n",
      "[2020-07-09 09:14:09] [QUERYING] Sanity check: Ensuring all instruments are affordable...\n",
      "[2020-07-09 09:14:09] [PASSED] Sanity check: All instruments are affordable\n",
      "[2020-07-09 09:14:09] \n",
      "########################################\n",
      " INITIALIZING ALGOBULLS CORE (v3.2.0)... \n",
      "########################################\n",
      "[2020-07-09 09:14:09] Welcome PUSHPAK MAHAVIR DAGADE!\n",
      "[2020-07-09 09:14:09] Reading strategy...\n",
      "[2020-07-09 09:14:09] STARTING ALGOBULLS CORE...\n",
      "[2020-07-09 09:14:09] \n",
      "            \n",
      "  #####  #######    #    ######  ####### ### #     #  #####     \n",
      " #     #    #      # #   #     #    #     #  ##    # #     #    \n",
      " #          #     #   #  #     #    #     #  # #   # #          \n",
      "  #####     #    #     # ######     #     #  #  #  # #  ####    \n",
      "       #    #    ####### #   #      #     #  #   # # #     #    \n",
      " #     #    #    #     # #    #     #     #  #    ## #     #    \n",
      "  #####     #    #     # #     #    #    ### #     #  #####     \n",
      "\n",
      "    #    #        #####  ####### ######  #     # #       #        #####    \n",
      "   # #   #       #     # #     # #     # #     # #       #       #     #   \n",
      "  #   #  #       #       #     # #     # #     # #       #       #         \n",
      " #     # #       #  #### #     # ######  #     # #       #        #####    \n",
      " ####### #       #     # #     # #     # #     # #       #             #   \n",
      " #     # #       #     # #     # #     # #     # #       #       #     #   \n",
      " #     # #######  #####  ####### ######   #####  ####### #######  #####    \n",
      "\n",
      "  #####  ####### ######  #######\n",
      " #     # #     # #     # #\n",
      " #       #     # #     # #\n",
      " #       #     # ######  #####\n",
      " #       #     # #   #   #\n",
      " #     # #     # #    #  #\n",
      "  #####  ####### #     # ####### \n",
      "\n",
      "[2020-07-09 09:14:09] [INFO] [tls] --------------------Master Cfg Parameters:--------------------\n",
      "[2020-07-09 09:14:09] [INFO] [tls] User: PUSHPAK MAHAVIR DAGADE\n",
      "[2020-07-09 09:14:09] [INFO] [tls] Broker: ALICEBLUE\n",
      "[2020-07-09 09:14:09] [INFO] [tls] AUTO_ADD_INSTRUMENTS_BUCKET_FROM_POSITIONS: False\n",
      "[2020-07-09 09:14:09] [INFO] [tls] AUTO_ADD_INSTRUMENTS_BUCKET_FROM_HOLDINGS_TPLUS1: False\n",
      "[2020-07-09 09:14:09] [INFO] [tls] AUTO_ADD_INSTRUMENTS_BUCKET_FROM_HOLDINGS_TPLUS2: False\n",
      "[2020-07-09 09:14:09] [INFO] [tls] RESUME_POSITIONS_ON_START: False\n",
      "[2020-07-09 09:14:09] [INFO] [tls] RESUME_HOLDINGS_TPLUS1_ON_START: False\n",
      "[2020-07-09 09:14:09] [INFO] [tls] RESUME_HOLDINGS_TPLUS2_ON_START: False\n",
      "[2020-07-09 09:14:09] [INFO] [tls] EXIT_INTRADAY_ORDERS_ON_STOP: True\n",
      "[2020-07-09 09:14:09] [INFO] [tls] EXIT_TPLUS1_DELIVERY_ORDERS_ON_STOP: False\n",
      "[2020-07-09 09:14:09] [INFO] [tls] EXIT_TPLUS2_DELIVERY_ORDERS_ON_STOP: False\n",
      "[2020-07-09 09:14:09] [INFO] [tls] --------------------User Cfg Parameters: System Parameters--------------------\n",
      "[2020-07-09 09:14:09] [INFO] [tls] Trading type: REALTRADING\n",
      "[2020-07-09 09:14:09] [INFO] [tls] User trading start time: 2020-07-09 09:15:00\n",
      "[2020-07-09 09:14:09] [INFO] [tls] User trading end time: 2020-07-09 15:30:00\n",
      "[2020-07-09 09:14:09] [INFO] [tls] --------------------User Cfg Parameters: Funds Parameters--------------------\n",
      "[2020-07-09 09:14:09] [INFO] [tls] Credit Exposure: 1\n",
      "[2020-07-09 09:14:09] [INFO] [tls] Fund Allocator: FundAllocatorLots\n",
      "[2020-07-09 09:14:09] [INFO] [tls] Fund Allocator Parameters: {'NUMBER_OF_LOTS': 1}\n",
      "[2020-07-09 09:14:09] [INFO] [tls] --------------------User Cfg Parameters: Candle Parameters--------------------\n",
      "[2020-07-09 09:14:09] [INFO] [tls] Candle interval (sec): 900\n",
      "[2020-07-09 09:14:09] [INFO] [tls] --------------------User Cfg Parameters: Strategy Parameters--------------------\n",
      "[2020-07-09 09:14:09] [INFO] [tls] Strategy: MACD Bracket Order Strategy\n",
      "[2020-07-09 09:14:09] [INFO] [tls] Parameters: {'fastma_period': 26, 'slowma_period': 6, 'signal_period': 9, 'target_trigger': 0.01, 'stoploss_trigger': 0.01, 'trailing_stoploss_trigger': 1}\n",
      "[2020-07-09 09:14:09] [INFO] [tls] Strategy Mode: INTRADAY\n",
      "[2020-07-09 09:14:09] [INFO] [tls] Instruments Bucket: instruments_bucket | [NSE_EQ:TATASTEEL]\n",
      "[2020-07-09 09:14:09] [INFO] [tls] --------------------User Cfg Parameters: Other Parameters--------------------\n",
      "[2020-07-09 09:14:09] [INFO] [tls] Allow multiple orders for same script: True\n",
      "[2020-07-09 09:14:09] [INFO] [tls] Allow new order when order for script already running: True\n",
      "[2020-07-09 09:14:09] [INFO] [tls] Instrument max orders count: 100000000000\n",
      "[2020-07-09 09:14:09] [INFO] [tls] Remove Instrument if Order Rejected: False\n",
      "[2020-07-09 09:14:09] [INFO] [tls] ------------------------------------------------------------\n",
      "[2020-07-09 09:14:09] [INFO] [utils] Instrument (NSE_EQ:TATASTEEL) subscribed to historical data successfully\n",
      "[2020-07-09 09:14:09] [INFO] [utils] 1 Instrument(s) (re)subscribed to historical data successfully\n",
      "[2020-07-09 09:14:09] [INFO] [utils] Prefetching historical data for 1 instruments...\n",
      "[2020-07-09 09:14:09] [INFO] [strategy] (NSE_EQ) Funds available in client's AliceBlue account is : Rs. '10110.60'\n",
      "####################\n",
      "Strategy Parameters:\n",
      "StrategyParameters([('fastma_period', 26),\n",
      "                    ('slowma_period', 6),\n",
      "                    ('signal_period', 9),\n",
      "                    ('target_trigger', 0.01),\n",
      "                    ('stoploss_trigger', 0.01),\n",
      "                    ('trailing_stoploss_trigger', 1)])\n",
      "####################\n",
      "[2020-07-09 09:15:00] [INFO] [utils] 1 Instrument(s) (re)subscribed to historical data successfully\n",
      "[2020-07-09 09:15:00] [INFO] [clock] Waiting for 900.00 seconds until end of current candle (2020-07-09 09:30:00)...\n",
      "[2020-07-09 09:30:00] [INFO] [clock] Waiting for 900.00 seconds until end of current candle (2020-07-09 09:45:00)...\n",
      "[2020-07-09 09:45:00] [INFO] [tls] Entering position for instrument: NSE_EQ:TATASTEEL...\n",
      "[2020-07-09 09:45:00] [CRITICAL] [order] [PLACING NEW ORDER] [2020-07-09 09:45:00] [577e6b4cb646463282ae98ec1c0e6c25] [BUY] [NSE:TATASTEEL] [QTY:1] [QTY PENDING: 1] [ENTRY PRICE: 345.0] [PRICE:345.0] [TRIGGER PRICE:None] [ORDER_TYPE_BRACKET] [ORDER_CODE_INTRADAY] [ORDER_VARIETY_LIMIT] [ORDER_POSITION_ENTER] [STOPLOSS TRIGGER:341.55] [TARGET TRIGGER:348.45] [TRAILING STOPLOSS TRIGGER:345.0]\n",
      "[2020-07-09 09:45:00] [INFO] [positions] Created new Position: Position: [BUY] [NSE:TATASTEEL] [QTY:1] [ORDER_TYPE_BRACKET] [ORDER_CODE_INTRADAY]\n",
      "[2020-07-09 09:45:00] [INFO] [order] [ORDER ID RECEIVED] [AliceBlue] [ID:577e6b4cb646463282ae98ec1c0e6c25] [BUY] [NSE_EQ:TATASTEEL] [Order ID: (Order: [2020-07-09 09:45:00] [577e6b4cb646463282ae98ec1c0e6c25] [BUY] [NSE:TATASTEEL] [QTY:1] [QTY PENDING: 1] [ENTRY PRICE: 345.0] [PRICE:345.0] [TRIGGER PRICE:None] [ORDER_TYPE_BRACKET] [ORDER_CODE_INTRADAY] [ORDER_VARIETY_LIMIT] [ORDER_POSITION_ENTER] [STOPLOSS TRIGGER:341.55] [TARGET TRIGGER:348.45] [TRAILING STOPLOSS TRIGGER:345.0])\n",
      "Status History: PUT ORDER REQ RECEIVED --> VALIDATION PENDING --> OPEN PENDING --> OPEN --> COMPLETE)]\n",
      "[2020-07-09 09:45:00] [INFO] [order] [NEW ORDER SUCCESS] [2020-07-09 09:45:00] [577e6b4cb646463282ae98ec1c0e6c25] [BUY] [NSE:TATASTEEL] [QTY:1] [QTY PENDING: 1] [ENTRY PRICE: 345.0] [PRICE:345.0] [TRIGGER PRICE:None] [ORDER_TYPE_BRACKET] [ORDER_CODE_INTRADAY] [ORDER_VARIETY_LIMIT] [ORDER_POSITION_ENTER] [STOPLOSS TRIGGER:341.55] [TARGET TRIGGER:348.45] [TRAILING STOPLOSS TRIGGER:345.0] [STATUS:COMPLETE]\n",
      "[2020-07-09 09:45:00] [INFO] [tls] Instrument entered position: NSE_EQ:TATASTEEL. Order placed\n",
      "[2020-07-09 09:45:00] [INFO] [clock] Waiting for 900.00 seconds until end of current candle (2020-07-09 10:00:00)...\n",
      "[2020-07-09 10:00:00] [CRITICAL] [order] [PLACING NEW ORDER] [2020-07-09 10:00:00] [be2d14219b9942fa9b7ae0455e702cc3] [SELL] [NSE:TATASTEEL] [QTY:1] [QTY PENDING: 1] [ENTRY PRICE: 348.45] [PRICE:348.45] [TRIGGER PRICE:None] [ORDER_TYPE_REGULAR] [ORDER_CODE_INTRADAY] [ORDER_VARIETY_LIMIT] [ORDER_POSITION_EXIT]\n",
      "[2020-07-09 10:00:00] [INFO] [order] [ORDER ID RECEIVED] [AliceBlue] [ID:be2d14219b9942fa9b7ae0455e702cc3] [SELL] [NSE_EQ:TATASTEEL] [Order ID: (Order: [2020-07-09 10:00:00] [be2d14219b9942fa9b7ae0455e702cc3] [SELL] [NSE:TATASTEEL] [QTY:1] [QTY PENDING: 1] [ENTRY PRICE: 348.45] [PRICE:348.45] [TRIGGER PRICE:None] [ORDER_TYPE_REGULAR] [ORDER_CODE_INTRADAY] [ORDER_VARIETY_LIMIT] [ORDER_POSITION_EXIT])\n",
      "Status History: PUT ORDER REQ RECEIVED --> VALIDATION PENDING --> OPEN PENDING --> OPEN)]\n",
      "[2020-07-09 10:00:00] [INFO] [order] [NEW ORDER SUCCESS] [2020-07-09 10:00:00] [be2d14219b9942fa9b7ae0455e702cc3] [SELL] [NSE:TATASTEEL] [QTY:1] [QTY PENDING: 1] [ENTRY PRICE: 348.45] [PRICE:348.45] [TRIGGER PRICE:None] [ORDER_TYPE_REGULAR] [ORDER_CODE_INTRADAY] [ORDER_VARIETY_LIMIT] [ORDER_POSITION_EXIT] [STATUS:OPEN]\n",
      "[2020-07-09 10:00:00] [CRITICAL] [order] [PLACING NEW ORDER] [2020-07-09 10:00:00] [64357c46bfde47daac2de07adefa65b7] [SELL] [NSE:TATASTEEL] [QTY:1] [QTY PENDING: 1] [ENTRY PRICE: 341.55] [PRICE:341.55] [TRIGGER PRICE:341.55] [ORDER_TYPE_REGULAR] [ORDER_CODE_INTRADAY] [ORDER_VARIETY_STOPLOSS_LIMIT] [ORDER_POSITION_EXIT]\n",
      "[2020-07-09 10:00:00] [INFO] [order] [ORDER ID RECEIVED] [AliceBlue] [ID:64357c46bfde47daac2de07adefa65b7] [SELL] [NSE_EQ:TATASTEEL] [Order ID: (Order: [2020-07-09 10:00:00] [64357c46bfde47daac2de07adefa65b7] [SELL] [NSE:TATASTEEL] [QTY:1] [QTY PENDING: 1] [ENTRY PRICE: 341.55] [PRICE:341.55] [TRIGGER PRICE:341.55] [ORDER_TYPE_REGULAR] [ORDER_CODE_INTRADAY] [ORDER_VARIETY_STOPLOSS_LIMIT] [ORDER_POSITION_EXIT])\n",
      "Status History: PUT ORDER REQ RECEIVED --> VALIDATION PENDING --> OPEN PENDING --> TRIGGER PENDING)]\n",
      "[2020-07-09 10:00:00] [INFO] [order] [NEW ORDER SUCCESS] [2020-07-09 10:00:00] [64357c46bfde47daac2de07adefa65b7] [SELL] [NSE:TATASTEEL] [QTY:1] [QTY PENDING: 1] [ENTRY PRICE: 341.55] [PRICE:341.55] [TRIGGER PRICE:341.55] [ORDER_TYPE_REGULAR] [ORDER_CODE_INTRADAY] [ORDER_VARIETY_STOPLOSS_LIMIT] [ORDER_POSITION_EXIT] [STATUS:TRIGGER PENDING]\n",
      "[2020-07-09 10:00:00] [INFO] [clock] Waiting for 900.00 seconds until end of current candle (2020-07-09 10:15:00)...\n",
      "[2020-07-09 10:15:00] [INFO] [clock] Waiting for 900.00 seconds until end of current candle (2020-07-09 10:30:00)...\n",
      "[2020-07-09 10:30:00] [INFO] [clock] Waiting for 900.00 seconds until end of current candle (2020-07-09 10:45:00)...\n",
      "[2020-07-09 10:45:00] [INFO] [clock] Waiting for 900.00 seconds until end of current candle (2020-07-09 11:00:00)...\n",
      "[2020-07-09 11:00:00] [INFO] [clock] Waiting for 900.00 seconds until end of current candle (2020-07-09 11:15:00)...\n",
      "[2020-07-09 11:15:00] [INFO] [clock] Waiting for 900.00 seconds until end of current candle (2020-07-09 11:30:00)...\n",
      "[2020-07-09 11:30:00] [INFO] [clock] Waiting for 900.00 seconds until end of current candle (2020-07-09 11:45:00)...\n",
      "[2020-07-09 11:45:00] [INFO] [clock] Waiting for 900.00 seconds until end of current candle (2020-07-09 12:00:00)...\n",
      "[2020-07-09 12:00:00] [WARNING] [order] [ID:577e6b4cb646463282ae98ec1c0e6c25] [BUY] [NSE_EQ:TATASTEEL] Order was exited manually. Not exiting...\n",
      "[2020-07-09 12:00:00] [INFO] [tls] Entering position for instrument: NSE_EQ:TATASTEEL...\n",
      "[2020-07-09 12:00:00] [CRITICAL] [order] [PLACING NEW ORDER] [2020-07-09 12:00:00] [858b3f21ff784ea6ac4d9b9dd0a46600] [SELL] [NSE:TATASTEEL] [QTY:1] [QTY PENDING: 1] [ENTRY PRICE: 345.2] [PRICE:345.2] [TRIGGER PRICE:None] [ORDER_TYPE_BRACKET] [ORDER_CODE_INTRADAY] [ORDER_VARIETY_LIMIT] [ORDER_POSITION_ENTER] [STOPLOSS TRIGGER:348.652] [TARGET TRIGGER:341.748] [TRAILING STOPLOSS TRIGGER:345.2]\n",
      "[2020-07-09 12:00:00] [INFO] [positions] Created new Position: Position: [SELL] [NSE:TATASTEEL] [QTY:-1] [ORDER_TYPE_BRACKET] [ORDER_CODE_INTRADAY]\n",
      "[2020-07-09 12:00:00] [INFO] [order] [ORDER ID RECEIVED] [AliceBlue] [ID:858b3f21ff784ea6ac4d9b9dd0a46600] [SELL] [NSE_EQ:TATASTEEL] [Order ID: (Order: [2020-07-09 12:00:00] [858b3f21ff784ea6ac4d9b9dd0a46600] [SELL] [NSE:TATASTEEL] [QTY:1] [QTY PENDING: 1] [ENTRY PRICE: 345.2] [PRICE:345.2] [TRIGGER PRICE:None] [ORDER_TYPE_BRACKET] [ORDER_CODE_INTRADAY] [ORDER_VARIETY_LIMIT] [ORDER_POSITION_ENTER] [STOPLOSS TRIGGER:348.652] [TARGET TRIGGER:341.748] [TRAILING STOPLOSS TRIGGER:345.2])\n",
      "Status History: PUT ORDER REQ RECEIVED --> VALIDATION PENDING --> OPEN PENDING --> OPEN --> COMPLETE)]\n",
      "[2020-07-09 12:00:00] [INFO] [order] [NEW ORDER SUCCESS] [2020-07-09 12:00:00] [858b3f21ff784ea6ac4d9b9dd0a46600] [SELL] [NSE:TATASTEEL] [QTY:1] [QTY PENDING: 1] [ENTRY PRICE: 345.2] [PRICE:345.2] [TRIGGER PRICE:None] [ORDER_TYPE_BRACKET] [ORDER_CODE_INTRADAY] [ORDER_VARIETY_LIMIT] [ORDER_POSITION_ENTER] [STOPLOSS TRIGGER:348.652] [TARGET TRIGGER:341.748] [TRAILING STOPLOSS TRIGGER:345.2] [STATUS:COMPLETE]\n",
      "[2020-07-09 12:00:00] [INFO] [tls] Instrument entered position: NSE_EQ:TATASTEEL. Order placed\n",
      "[2020-07-09 12:00:00] [INFO] [clock] Waiting for 900.00 seconds until end of current candle (2020-07-09 12:15:00)...\n",
      "[2020-07-09 12:15:00] [CRITICAL] [order] [PLACING NEW ORDER] [2020-07-09 12:15:00] [088b2bc35e41487cbc37bdc66b673a39] [BUY] [NSE:TATASTEEL] [QTY:1] [QTY PENDING: 1] [ENTRY PRICE: 341.7] [PRICE:341.7] [TRIGGER PRICE:None] [ORDER_TYPE_REGULAR] [ORDER_CODE_INTRADAY] [ORDER_VARIETY_LIMIT] [ORDER_POSITION_EXIT]\n",
      "[2020-07-09 12:15:00] [INFO] [order] [ORDER ID RECEIVED] [AliceBlue] [ID:088b2bc35e41487cbc37bdc66b673a39] [BUY] [NSE_EQ:TATASTEEL] [Order ID: (Order: [2020-07-09 12:15:00] [088b2bc35e41487cbc37bdc66b673a39] [BUY] [NSE:TATASTEEL] [QTY:1] [QTY PENDING: 1] [ENTRY PRICE: 341.7] [PRICE:341.7] [TRIGGER PRICE:None] [ORDER_TYPE_REGULAR] [ORDER_CODE_INTRADAY] [ORDER_VARIETY_LIMIT] [ORDER_POSITION_EXIT])\n",
      "Status History: PUT ORDER REQ RECEIVED --> VALIDATION PENDING --> OPEN PENDING --> OPEN)]\n",
      "[2020-07-09 12:15:00] [INFO] [order] [NEW ORDER SUCCESS] [2020-07-09 12:15:00] [088b2bc35e41487cbc37bdc66b673a39] [BUY] [NSE:TATASTEEL] [QTY:1] [QTY PENDING: 1] [ENTRY PRICE: 341.7] [PRICE:341.7] [TRIGGER PRICE:None] [ORDER_TYPE_REGULAR] [ORDER_CODE_INTRADAY] [ORDER_VARIETY_LIMIT] [ORDER_POSITION_EXIT] [STATUS:OPEN]\n",
      "[2020-07-09 12:15:00] [CRITICAL] [order] [PLACING NEW ORDER] [2020-07-09 12:15:00] [ebf17d28cf5f42bf8896d3aff8581c8c] [BUY] [NSE:TATASTEEL] [QTY:1] [QTY PENDING: 1] [ENTRY PRICE: 348.65] [PRICE:348.65] [TRIGGER PRICE:348.65] [ORDER_TYPE_REGULAR] [ORDER_CODE_INTRADAY] [ORDER_VARIETY_STOPLOSS_LIMIT] [ORDER_POSITION_EXIT]\n",
      "[2020-07-09 12:15:00] [INFO] [order] [ORDER ID RECEIVED] [AliceBlue] [ID:ebf17d28cf5f42bf8896d3aff8581c8c] [BUY] [NSE_EQ:TATASTEEL] [Order ID: (Order: [2020-07-09 12:15:00] [ebf17d28cf5f42bf8896d3aff8581c8c] [BUY] [NSE:TATASTEEL] [QTY:1] [QTY PENDING: 1] [ENTRY PRICE: 348.65] [PRICE:348.65] [TRIGGER PRICE:348.65] [ORDER_TYPE_REGULAR] [ORDER_CODE_INTRADAY] [ORDER_VARIETY_STOPLOSS_LIMIT] [ORDER_POSITION_EXIT])\n",
      "Status History: PUT ORDER REQ RECEIVED --> VALIDATION PENDING --> OPEN PENDING --> TRIGGER PENDING)]\n",
      "[2020-07-09 12:15:00] [INFO] [order] [NEW ORDER SUCCESS] [2020-07-09 12:15:00] [ebf17d28cf5f42bf8896d3aff8581c8c] [BUY] [NSE:TATASTEEL] [QTY:1] [QTY PENDING: 1] [ENTRY PRICE: 348.65] [PRICE:348.65] [TRIGGER PRICE:348.65] [ORDER_TYPE_REGULAR] [ORDER_CODE_INTRADAY] [ORDER_VARIETY_STOPLOSS_LIMIT] [ORDER_POSITION_EXIT] [STATUS:TRIGGER PENDING]\n",
      "[2020-07-09 12:15:00] [INFO] [clock] Waiting for 900.00 seconds until end of current candle (2020-07-09 12:30:00)...\n",
      "[2020-07-09 12:30:00] [INFO] [clock] Waiting for 900.00 seconds until end of current candle (2020-07-09 12:45:00)...\n",
      "[2020-07-09 12:45:00] [INFO] [clock] Waiting for 900.00 seconds until end of current candle (2020-07-09 13:00:00)...\n",
      "[2020-07-09 13:00:00] [INFO] [clock] Waiting for 900.00 seconds until end of current candle (2020-07-09 13:15:00)...\n",
      "[2020-07-09 13:15:00] [INFO] [clock] Waiting for 900.00 seconds until end of current candle (2020-07-09 13:30:00)...\n",
      "[2020-07-09 13:30:00] [INFO] [clock] Waiting for 900.00 seconds until end of current candle (2020-07-09 13:45:00)...\n",
      "[2020-07-09 13:45:00] [INFO] [clock] Waiting for 900.00 seconds until end of current candle (2020-07-09 14:00:00)...\n",
      "[2020-07-09 14:00:00] [INFO] [clock] Waiting for 900.00 seconds until end of current candle (2020-07-09 14:15:00)...\n",
      "[2020-07-09 14:15:00] [INFO] [clock] Waiting for 900.00 seconds until end of current candle (2020-07-09 14:30:00)...\n",
      "[2020-07-09 14:30:00] [INFO] [clock] Waiting for 900.00 seconds until end of current candle (2020-07-09 14:45:00)...\n",
      "[2020-07-09 14:45:00] [INFO] [clock] Waiting for 900.00 seconds until end of current candle (2020-07-09 15:00:00)...\n",
      "[2020-07-09 15:00:00] [INFO] [clock] Waiting for 900.00 seconds until end of current candle (2020-07-09 15:15:00)...\n",
      "[2020-07-09 15:15:00] [INFO] [clock] Waiting for 900.00 seconds until end of current candle (2020-07-09 15:30:00)...\n",
      "[2020-07-09 15:30:00] [INFO] [order] Exiting OPEN POSITION (Order: [2020-07-09 12:00:00] [858b3f21ff784ea6ac4d9b9dd0a46600] [SELL] [NSE:TATASTEEL] [QTY:1] [QTY PENDING: 1] [ENTRY PRICE: 345.2] [PRICE:345.2] [TRIGGER PRICE:None] [ORDER_TYPE_BRACKET] [ORDER_CODE_INTRADAY] [ORDER_VARIETY_LIMIT] [ORDER_POSITION_ENTER] [STOPLOSS TRIGGER:348.652] [TARGET TRIGGER:341.748] [TRAILING STOPLOSS TRIGGER:345.2])... \n",
      "[2020-07-09 15:30:00] [INFO] [order] Exiting child orders...\n",
      "[2020-07-09 15:30:00] [INFO] [order] Cancelling order... (Order: [2020-07-09 12:15:00] [088b2bc35e41487cbc37bdc66b673a39] [BUY] [NSE:TATASTEEL] [QTY:1] [QTY PENDING: 1] [ENTRY PRICE: 341.7] [PRICE:341.7] [TRIGGER PRICE:None] [ORDER_TYPE_REGULAR] [ORDER_CODE_INTRADAY] [ORDER_VARIETY_LIMIT] [ORDER_POSITION_EXIT])\n",
      "Status History: PUT ORDER REQ RECEIVED --> VALIDATION PENDING --> OPEN PENDING --> OPEN)\n",
      "[2020-07-09 15:30:00] [INFO] [order] Cancelling order... (Order: [2020-07-09 12:15:00] [ebf17d28cf5f42bf8896d3aff8581c8c] [BUY] [NSE:TATASTEEL] [QTY:1] [QTY PENDING: 1] [ENTRY PRICE: 348.65] [PRICE:348.65] [TRIGGER PRICE:348.65] [ORDER_TYPE_REGULAR] [ORDER_CODE_INTRADAY] [ORDER_VARIETY_STOPLOSS_LIMIT] [ORDER_POSITION_EXIT])\n",
      "Status History: PUT ORDER REQ RECEIVED --> VALIDATION PENDING --> OPEN PENDING --> TRIGGER PENDING)\n",
      "[2020-07-09 15:30:00] [INFO] [order] Exiting main bracket order...\n",
      "[2020-07-09 15:30:00] [CRITICAL] [order] [PLACING NEW ORDER] [2020-07-09 15:30:00] [ada338cf4fc8405f88ed6ad166dd30b0] [BUY] [NSE:TATASTEEL] [QTY:1] [QTY PENDING: 1] [ENTRY PRICE: 345.0] [PRICE:None] [TRIGGER PRICE:None] [ORDER_TYPE_REGULAR] [ORDER_CODE_INTRADAY] [ORDER_VARIETY_MARKET] [ORDER_POSITION_EXIT]\n",
      "[2020-07-09 15:30:00] [INFO] [order] [ORDER ID RECEIVED] [AliceBlue] [ID:ada338cf4fc8405f88ed6ad166dd30b0] [BUY] [NSE_EQ:TATASTEEL] [Order ID: (Order: [2020-07-09 15:30:00] [ada338cf4fc8405f88ed6ad166dd30b0] [BUY] [NSE:TATASTEEL] [QTY:1] [QTY PENDING: 0] [ENTRY PRICE: 345.0] [PRICE:None] [TRIGGER PRICE:None] [ORDER_TYPE_REGULAR] [ORDER_CODE_INTRADAY] [ORDER_VARIETY_MARKET] [ORDER_POSITION_EXIT])\n",
      "Status History: PUT ORDER REQ RECEIVED --> VALIDATION PENDING --> OPEN PENDING --> OPEN --> COMPLETE)]\n",
      "[2020-07-09 15:30:00] [INFO] [order] [NEW ORDER SUCCESS] [2020-07-09 15:30:00] [ada338cf4fc8405f88ed6ad166dd30b0] [BUY] [NSE:TATASTEEL] [QTY:1] [QTY PENDING: 0] [ENTRY PRICE: 345.0] [PRICE:None] [TRIGGER PRICE:None] [ORDER_TYPE_REGULAR] [ORDER_CODE_INTRADAY] [ORDER_VARIETY_MARKET] [ORDER_POSITION_EXIT] [STATUS:COMPLETE]\n",
      "[2020-07-09 15:30:00] [INFO] [clock] Candle generation has been stopped...\n",
      "[2020-07-09 15:30:00] [INFO] [tls] Received event END OF MARKET. Stopping Trading Core Engine...\n",
      "[2020-07-09 15:30:00] [INFO] [tls] Exiting all open positions with order code: ORDER_CODE_INTRADAY (if any)...\n",
      "[2020-07-09 15:30:00] [CRITICAL] [tls] [User: PUSHPAK MAHAVIR DAGADE] Trading session completed\n",
      "\n"
     ]
    }
   ],
   "source": [
    "logs = algobulls_connection.get_realtrading_logs(strategy_code2)\n",
    "print(logs)"
   ]
  },
  {
   "cell_type": "markdown",
   "metadata": {},
   "source": [
    "### Recipe 9: MACD-Bracket-Order Strategy: Fetching Real Trading Reports - Profit-n-Loss Table"
   ]
  },
  {
   "cell_type": "code",
   "execution_count": 39,
   "metadata": {},
   "outputs": [
    {
     "data": {
      "text/html": [
       "<div>\n",
       "<style scoped>\n",
       "    .dataframe tbody tr th:only-of-type {\n",
       "        vertical-align: middle;\n",
       "    }\n",
       "\n",
       "    .dataframe tbody tr th {\n",
       "        vertical-align: top;\n",
       "    }\n",
       "\n",
       "    .dataframe thead th {\n",
       "        text-align: right;\n",
       "    }\n",
       "</style>\n",
       "<table border=\"1\" class=\"dataframe\">\n",
       "  <thead>\n",
       "    <tr style=\"text-align: right;\">\n",
       "      <th></th>\n",
       "      <th>instrument</th>\n",
       "      <th>entry_timestamp</th>\n",
       "      <th>entry_transaction_type</th>\n",
       "      <th>entry_quantity</th>\n",
       "      <th>entry_price</th>\n",
       "      <th>exit_time</th>\n",
       "      <th>exit_transaction_type</th>\n",
       "      <th>exit_quantity</th>\n",
       "      <th>exit_price</th>\n",
       "      <th>pnl_absolute</th>\n",
       "      <th>pnl_percentage</th>\n",
       "      <th>pnl_cumulative_absolute</th>\n",
       "      <th>pnl_cumulative_percentage</th>\n",
       "    </tr>\n",
       "  </thead>\n",
       "  <tbody>\n",
       "    <tr>\n",
       "      <th>0</th>\n",
       "      <td>NSE_EQ:TATASTEEL</td>\n",
       "      <td>2020-07-09 12:00:00</td>\n",
       "      <td>SELL</td>\n",
       "      <td>1</td>\n",
       "      <td>345.2</td>\n",
       "      <td>2020-07-09 15:30:00</td>\n",
       "      <td>BUY</td>\n",
       "      <td>1</td>\n",
       "      <td>345</td>\n",
       "      <td>0.2</td>\n",
       "      <td>0.06</td>\n",
       "      <td>3.65</td>\n",
       "      <td>1.06</td>\n",
       "    </tr>\n",
       "    <tr>\n",
       "      <th>1</th>\n",
       "      <td>NSE_EQ:TATASTEEL</td>\n",
       "      <td>2020-07-09 09:45:00</td>\n",
       "      <td>BUY</td>\n",
       "      <td>1</td>\n",
       "      <td>345</td>\n",
       "      <td>2020-07-09 10:00:00</td>\n",
       "      <td>SELL</td>\n",
       "      <td>1</td>\n",
       "      <td>348.45</td>\n",
       "      <td>3.45</td>\n",
       "      <td>1</td>\n",
       "      <td>3.45</td>\n",
       "      <td>1</td>\n",
       "    </tr>\n",
       "  </tbody>\n",
       "</table>\n",
       "</div>"
      ],
      "text/plain": [
       "         instrument      entry_timestamp entry_transaction_type  \\\n",
       "0  NSE_EQ:TATASTEEL  2020-07-09 12:00:00                   SELL   \n",
       "1  NSE_EQ:TATASTEEL  2020-07-09 09:45:00                    BUY   \n",
       "\n",
       "  entry_quantity entry_price            exit_time exit_transaction_type  \\\n",
       "0              1       345.2  2020-07-09 15:30:00                   BUY   \n",
       "1              1         345  2020-07-09 10:00:00                  SELL   \n",
       "\n",
       "  exit_quantity exit_price pnl_absolute pnl_percentage  \\\n",
       "0             1        345          0.2           0.06   \n",
       "1             1     348.45         3.45              1   \n",
       "\n",
       "  pnl_cumulative_absolute pnl_cumulative_percentage  \n",
       "0                    3.65                      1.06  \n",
       "1                    3.45                         1  "
      ]
     },
     "execution_count": 39,
     "metadata": {},
     "output_type": "execute_result"
    }
   ],
   "source": [
    "algobulls_connection.get_realtrading_report_pnl_table(strategy_code2)"
   ]
  },
  {
   "cell_type": "markdown",
   "metadata": {},
   "source": [
    "### Recipe 10: MACD-Bracket-Order Strategy: Fetching Real Trading Reports - Statistics Table"
   ]
  },
  {
   "cell_type": "code",
   "execution_count": 40,
   "metadata": {},
   "outputs": [
    {
     "data": {
      "text/html": [
       "<div>\n",
       "<style scoped>\n",
       "    .dataframe tbody tr th:only-of-type {\n",
       "        vertical-align: middle;\n",
       "    }\n",
       "\n",
       "    .dataframe tbody tr th {\n",
       "        vertical-align: top;\n",
       "    }\n",
       "\n",
       "    .dataframe thead th {\n",
       "        text-align: right;\n",
       "    }\n",
       "</style>\n",
       "<table border=\"1\" class=\"dataframe\">\n",
       "  <thead>\n",
       "    <tr style=\"text-align: right;\">\n",
       "      <th></th>\n",
       "      <th>highlight_type</th>\n",
       "      <th>highlight_value</th>\n",
       "    </tr>\n",
       "  </thead>\n",
       "  <tbody>\n",
       "    <tr>\n",
       "      <th>0</th>\n",
       "      <td>Net PnL</td>\n",
       "      <td>3.65</td>\n",
       "    </tr>\n",
       "    <tr>\n",
       "      <th>1</th>\n",
       "      <td>Net PnL %</td>\n",
       "      <td>1.06</td>\n",
       "    </tr>\n",
       "    <tr>\n",
       "      <th>2</th>\n",
       "      <td>Max Drawdown</td>\n",
       "      <td>3.45</td>\n",
       "    </tr>\n",
       "    <tr>\n",
       "      <th>3</th>\n",
       "      <td>Max Drawdown %</td>\n",
       "      <td>1</td>\n",
       "    </tr>\n",
       "    <tr>\n",
       "      <th>4</th>\n",
       "      <td>Number of Trades</td>\n",
       "      <td>2</td>\n",
       "    </tr>\n",
       "    <tr>\n",
       "      <th>5</th>\n",
       "      <td>Number of Wins</td>\n",
       "      <td>2</td>\n",
       "    </tr>\n",
       "    <tr>\n",
       "      <th>6</th>\n",
       "      <td>Number of Looses</td>\n",
       "      <td>0</td>\n",
       "    </tr>\n",
       "    <tr>\n",
       "      <th>7</th>\n",
       "      <td>Number of Long Trades</td>\n",
       "      <td>1</td>\n",
       "    </tr>\n",
       "    <tr>\n",
       "      <th>8</th>\n",
       "      <td>Number of Short Trades</td>\n",
       "      <td>1</td>\n",
       "    </tr>\n",
       "    <tr>\n",
       "      <th>9</th>\n",
       "      <td>Max Gain</td>\n",
       "      <td>3.45</td>\n",
       "    </tr>\n",
       "    <tr>\n",
       "      <th>10</th>\n",
       "      <td>Min Gain</td>\n",
       "      <td>0.2</td>\n",
       "    </tr>\n",
       "    <tr>\n",
       "      <th>11</th>\n",
       "      <td>Avg. Profit per winning trade</td>\n",
       "      <td>1.83</td>\n",
       "    </tr>\n",
       "    <tr>\n",
       "      <th>12</th>\n",
       "      <td>Avg. Profit per losing trade</td>\n",
       "      <td>-</td>\n",
       "    </tr>\n",
       "  </tbody>\n",
       "</table>\n",
       "</div>"
      ],
      "text/plain": [
       "                   highlight_type highlight_value\n",
       "0                         Net PnL            3.65\n",
       "1                       Net PnL %            1.06\n",
       "2                    Max Drawdown            3.45\n",
       "3                  Max Drawdown %               1\n",
       "4                Number of Trades               2\n",
       "5                  Number of Wins               2\n",
       "6                Number of Looses               0\n",
       "7           Number of Long Trades               1\n",
       "8          Number of Short Trades               1\n",
       "9                        Max Gain            3.45\n",
       "10                       Min Gain             0.2\n",
       "11  Avg. Profit per winning trade            1.83\n",
       "12   Avg. Profit per losing trade               -"
      ]
     },
     "execution_count": 40,
     "metadata": {},
     "output_type": "execute_result"
    }
   ],
   "source": [
    "algobulls_connection.get_papertrading_report_statistics(strategy_code2)"
   ]
  }
 ],
 "metadata": {
  "kernelspec": {
   "display_name": "Python 3",
   "language": "python",
   "name": "python3"
  },
  "language_info": {
   "codemirror_mode": {
    "name": "ipython",
    "version": 3
   },
   "file_extension": ".py",
   "mimetype": "text/x-python",
   "name": "python",
   "nbconvert_exporter": "python",
   "pygments_lexer": "ipython3",
   "version": "3.8.2"
  }
 },
 "nbformat": 4,
 "nbformat_minor": 2
}
